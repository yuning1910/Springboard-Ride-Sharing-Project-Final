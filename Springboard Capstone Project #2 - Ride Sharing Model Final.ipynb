{
 "cells": [
  {
   "cell_type": "code",
   "execution_count": 1,
   "metadata": {},
   "outputs": [],
   "source": [
    "#import required package\n",
    "import datetime\n",
    "import numpy as np\n",
    "import pandas as pd\n",
    "import matplotlib.pyplot as plt\n",
    "import seaborn as sns\n",
    "import scipy.stats\n",
    "plt.rcParams[\"figure.figsize\"] =(12,10)"
   ]
  },
  {
   "cell_type": "code",
   "execution_count": 2,
   "metadata": {},
   "outputs": [],
   "source": [
    "# load 1 million records\n",
    "transportation = pd.read_csv('Ride Sharing\\Transportation.csv', nrows = 1000000)\n"
   ]
  },
  {
   "cell_type": "code",
   "execution_count": 3,
   "metadata": {},
   "outputs": [
    {
     "data": {
      "text/plain": [
       "Trip ID                        object\n",
       "Trip Start Timestamp           object\n",
       "Trip End Timestamp             object\n",
       "Trip Seconds                  float64\n",
       "Trip Miles                    float64\n",
       "Pickup Census Tract           float64\n",
       "Dropoff Census Tract          float64\n",
       "Pickup Community Area         float64\n",
       "Dropoff Community Area        float64\n",
       "Fare                          float64\n",
       "Tip                             int64\n",
       "Additional Charges            float64\n",
       "Trip Total                    float64\n",
       "Shared Trip Authorized           bool\n",
       "Trips Pooled                    int64\n",
       "Pickup Centroid Latitude      float64\n",
       "Pickup Centroid Longitude     float64\n",
       "Pickup Centroid Location       object\n",
       "Dropoff Centroid Latitude     float64\n",
       "Dropoff Centroid Longitude    float64\n",
       "Dropoff Centroid Location      object\n",
       "dtype: object"
      ]
     },
     "execution_count": 3,
     "metadata": {},
     "output_type": "execute_result"
    }
   ],
   "source": [
    "# Check the data type of each feature\n",
    "transportation.dtypes"
   ]
  },
  {
   "cell_type": "code",
   "execution_count": 4,
   "metadata": {},
   "outputs": [
    {
     "data": {
      "text/html": [
       "<div>\n",
       "<style scoped>\n",
       "    .dataframe tbody tr th:only-of-type {\n",
       "        vertical-align: middle;\n",
       "    }\n",
       "\n",
       "    .dataframe tbody tr th {\n",
       "        vertical-align: top;\n",
       "    }\n",
       "\n",
       "    .dataframe thead th {\n",
       "        text-align: right;\n",
       "    }\n",
       "</style>\n",
       "<table border=\"1\" class=\"dataframe\">\n",
       "  <thead>\n",
       "    <tr style=\"text-align: right;\">\n",
       "      <th></th>\n",
       "      <th>Trip ID</th>\n",
       "      <th>Trip Start Timestamp</th>\n",
       "      <th>Trip End Timestamp</th>\n",
       "      <th>Trip Seconds</th>\n",
       "      <th>Trip Miles</th>\n",
       "      <th>Pickup Census Tract</th>\n",
       "      <th>Dropoff Census Tract</th>\n",
       "      <th>Pickup Community Area</th>\n",
       "      <th>Dropoff Community Area</th>\n",
       "      <th>Fare</th>\n",
       "      <th>...</th>\n",
       "      <th>Additional Charges</th>\n",
       "      <th>Trip Total</th>\n",
       "      <th>Shared Trip Authorized</th>\n",
       "      <th>Trips Pooled</th>\n",
       "      <th>Pickup Centroid Latitude</th>\n",
       "      <th>Pickup Centroid Longitude</th>\n",
       "      <th>Pickup Centroid Location</th>\n",
       "      <th>Dropoff Centroid Latitude</th>\n",
       "      <th>Dropoff Centroid Longitude</th>\n",
       "      <th>Dropoff Centroid Location</th>\n",
       "    </tr>\n",
       "  </thead>\n",
       "  <tbody>\n",
       "    <tr>\n",
       "      <th>0</th>\n",
       "      <td>022ad3b7f1320d4e52cce3d5931eb0a0cee16c48</td>\n",
       "      <td>11/01/2018 08:45:00 AM</td>\n",
       "      <td>11/01/2018 09:30:00 AM</td>\n",
       "      <td>3140.0</td>\n",
       "      <td>38.5</td>\n",
       "      <td>NaN</td>\n",
       "      <td>1.703198e+10</td>\n",
       "      <td>NaN</td>\n",
       "      <td>56.0</td>\n",
       "      <td>47.5</td>\n",
       "      <td>...</td>\n",
       "      <td>9.1</td>\n",
       "      <td>66.6</td>\n",
       "      <td>False</td>\n",
       "      <td>1</td>\n",
       "      <td>NaN</td>\n",
       "      <td>NaN</td>\n",
       "      <td>NaN</td>\n",
       "      <td>41.785999</td>\n",
       "      <td>-87.750934</td>\n",
       "      <td>POINT (-87.7509342894 41.785998518)</td>\n",
       "    </tr>\n",
       "    <tr>\n",
       "      <th>1</th>\n",
       "      <td>0377167460a4d5d5e015c642b460e56ac88dab71</td>\n",
       "      <td>11/01/2018 02:00:00 AM</td>\n",
       "      <td>11/01/2018 02:15:00 AM</td>\n",
       "      <td>1031.0</td>\n",
       "      <td>5.3</td>\n",
       "      <td>NaN</td>\n",
       "      <td>NaN</td>\n",
       "      <td>70.0</td>\n",
       "      <td>NaN</td>\n",
       "      <td>10.0</td>\n",
       "      <td>...</td>\n",
       "      <td>2.5</td>\n",
       "      <td>12.5</td>\n",
       "      <td>False</td>\n",
       "      <td>1</td>\n",
       "      <td>41.745758</td>\n",
       "      <td>-87.708366</td>\n",
       "      <td>POINT (-87.7083657043 41.7457577128)</td>\n",
       "      <td>NaN</td>\n",
       "      <td>NaN</td>\n",
       "      <td>NaN</td>\n",
       "    </tr>\n",
       "    <tr>\n",
       "      <th>2</th>\n",
       "      <td>03a2ac30a46af881e6a2e6af06a3a779b67c0802</td>\n",
       "      <td>11/01/2018 08:15:00 PM</td>\n",
       "      <td>11/01/2018 09:15:00 PM</td>\n",
       "      <td>4125.0</td>\n",
       "      <td>49.9</td>\n",
       "      <td>1.703108e+10</td>\n",
       "      <td>NaN</td>\n",
       "      <td>8.0</td>\n",
       "      <td>NaN</td>\n",
       "      <td>62.5</td>\n",
       "      <td>...</td>\n",
       "      <td>3.8</td>\n",
       "      <td>66.3</td>\n",
       "      <td>False</td>\n",
       "      <td>1</td>\n",
       "      <td>41.892042</td>\n",
       "      <td>-87.631864</td>\n",
       "      <td>POINT (-87.6318639497 41.8920421365)</td>\n",
       "      <td>NaN</td>\n",
       "      <td>NaN</td>\n",
       "      <td>NaN</td>\n",
       "    </tr>\n",
       "    <tr>\n",
       "      <th>3</th>\n",
       "      <td>03fe17b0509941aa04744e9e4478ed5ded56b2eb</td>\n",
       "      <td>11/01/2018 03:45:00 AM</td>\n",
       "      <td>11/01/2018 04:15:00 AM</td>\n",
       "      <td>1229.0</td>\n",
       "      <td>11.7</td>\n",
       "      <td>1.703183e+10</td>\n",
       "      <td>NaN</td>\n",
       "      <td>22.0</td>\n",
       "      <td>NaN</td>\n",
       "      <td>7.5</td>\n",
       "      <td>...</td>\n",
       "      <td>2.5</td>\n",
       "      <td>10.0</td>\n",
       "      <td>True</td>\n",
       "      <td>3</td>\n",
       "      <td>41.916005</td>\n",
       "      <td>-87.675095</td>\n",
       "      <td>POINT (-87.6750951155 41.9160052737)</td>\n",
       "      <td>NaN</td>\n",
       "      <td>NaN</td>\n",
       "      <td>NaN</td>\n",
       "    </tr>\n",
       "    <tr>\n",
       "      <th>4</th>\n",
       "      <td>040590c0bf5b22f8ccf7d8f19873c612bebfd480</td>\n",
       "      <td>11/01/2018 05:00:00 PM</td>\n",
       "      <td>11/01/2018 06:00:00 PM</td>\n",
       "      <td>3383.0</td>\n",
       "      <td>12.3</td>\n",
       "      <td>NaN</td>\n",
       "      <td>1.703184e+10</td>\n",
       "      <td>NaN</td>\n",
       "      <td>32.0</td>\n",
       "      <td>27.5</td>\n",
       "      <td>...</td>\n",
       "      <td>2.5</td>\n",
       "      <td>30.0</td>\n",
       "      <td>False</td>\n",
       "      <td>1</td>\n",
       "      <td>NaN</td>\n",
       "      <td>NaN</td>\n",
       "      <td>NaN</td>\n",
       "      <td>41.880994</td>\n",
       "      <td>-87.632746</td>\n",
       "      <td>POINT (-87.6327464887 41.8809944707)</td>\n",
       "    </tr>\n",
       "  </tbody>\n",
       "</table>\n",
       "<p>5 rows × 21 columns</p>\n",
       "</div>"
      ],
      "text/plain": [
       "                                    Trip ID    Trip Start Timestamp  \\\n",
       "0  022ad3b7f1320d4e52cce3d5931eb0a0cee16c48  11/01/2018 08:45:00 AM   \n",
       "1  0377167460a4d5d5e015c642b460e56ac88dab71  11/01/2018 02:00:00 AM   \n",
       "2  03a2ac30a46af881e6a2e6af06a3a779b67c0802  11/01/2018 08:15:00 PM   \n",
       "3  03fe17b0509941aa04744e9e4478ed5ded56b2eb  11/01/2018 03:45:00 AM   \n",
       "4  040590c0bf5b22f8ccf7d8f19873c612bebfd480  11/01/2018 05:00:00 PM   \n",
       "\n",
       "       Trip End Timestamp  Trip Seconds  Trip Miles  Pickup Census Tract  \\\n",
       "0  11/01/2018 09:30:00 AM        3140.0        38.5                  NaN   \n",
       "1  11/01/2018 02:15:00 AM        1031.0         5.3                  NaN   \n",
       "2  11/01/2018 09:15:00 PM        4125.0        49.9         1.703108e+10   \n",
       "3  11/01/2018 04:15:00 AM        1229.0        11.7         1.703183e+10   \n",
       "4  11/01/2018 06:00:00 PM        3383.0        12.3                  NaN   \n",
       "\n",
       "   Dropoff Census Tract  Pickup Community Area  Dropoff Community Area  Fare  \\\n",
       "0          1.703198e+10                    NaN                    56.0  47.5   \n",
       "1                   NaN                   70.0                     NaN  10.0   \n",
       "2                   NaN                    8.0                     NaN  62.5   \n",
       "3                   NaN                   22.0                     NaN   7.5   \n",
       "4          1.703184e+10                    NaN                    32.0  27.5   \n",
       "\n",
       "                   ...                   Additional Charges  Trip Total  \\\n",
       "0                  ...                                  9.1        66.6   \n",
       "1                  ...                                  2.5        12.5   \n",
       "2                  ...                                  3.8        66.3   \n",
       "3                  ...                                  2.5        10.0   \n",
       "4                  ...                                  2.5        30.0   \n",
       "\n",
       "   Shared Trip Authorized  Trips Pooled  Pickup Centroid Latitude  \\\n",
       "0                   False             1                       NaN   \n",
       "1                   False             1                 41.745758   \n",
       "2                   False             1                 41.892042   \n",
       "3                    True             3                 41.916005   \n",
       "4                   False             1                       NaN   \n",
       "\n",
       "   Pickup Centroid Longitude              Pickup Centroid Location  \\\n",
       "0                        NaN                                   NaN   \n",
       "1                 -87.708366  POINT (-87.7083657043 41.7457577128)   \n",
       "2                 -87.631864  POINT (-87.6318639497 41.8920421365)   \n",
       "3                 -87.675095  POINT (-87.6750951155 41.9160052737)   \n",
       "4                        NaN                                   NaN   \n",
       "\n",
       "  Dropoff Centroid Latitude  Dropoff Centroid Longitude  \\\n",
       "0                 41.785999                  -87.750934   \n",
       "1                       NaN                         NaN   \n",
       "2                       NaN                         NaN   \n",
       "3                       NaN                         NaN   \n",
       "4                 41.880994                  -87.632746   \n",
       "\n",
       "              Dropoff Centroid Location  \n",
       "0   POINT (-87.7509342894 41.785998518)  \n",
       "1                                   NaN  \n",
       "2                                   NaN  \n",
       "3                                   NaN  \n",
       "4  POINT (-87.6327464887 41.8809944707)  \n",
       "\n",
       "[5 rows x 21 columns]"
      ]
     },
     "execution_count": 4,
     "metadata": {},
     "output_type": "execute_result"
    }
   ],
   "source": [
    "#Check the first 5 entries\n",
    "transportation.head(5)"
   ]
  },
  {
   "cell_type": "code",
   "execution_count": 5,
   "metadata": {},
   "outputs": [
    {
     "data": {
      "text/html": [
       "<div>\n",
       "<style scoped>\n",
       "    .dataframe tbody tr th:only-of-type {\n",
       "        vertical-align: middle;\n",
       "    }\n",
       "\n",
       "    .dataframe tbody tr th {\n",
       "        vertical-align: top;\n",
       "    }\n",
       "\n",
       "    .dataframe thead th {\n",
       "        text-align: right;\n",
       "    }\n",
       "</style>\n",
       "<table border=\"1\" class=\"dataframe\">\n",
       "  <thead>\n",
       "    <tr style=\"text-align: right;\">\n",
       "      <th></th>\n",
       "      <th>Trip ID</th>\n",
       "      <th>Trip Start Timestamp</th>\n",
       "      <th>Trip End Timestamp</th>\n",
       "      <th>Trip Seconds</th>\n",
       "      <th>Trip Miles</th>\n",
       "      <th>Pickup Census Tract</th>\n",
       "      <th>Dropoff Census Tract</th>\n",
       "      <th>Pickup Community Area</th>\n",
       "      <th>Dropoff Community Area</th>\n",
       "      <th>Fare</th>\n",
       "      <th>...</th>\n",
       "      <th>Additional Charges</th>\n",
       "      <th>Trip Total</th>\n",
       "      <th>Shared Trip Authorized</th>\n",
       "      <th>Trips Pooled</th>\n",
       "      <th>Pickup Centroid Latitude</th>\n",
       "      <th>Pickup Centroid Longitude</th>\n",
       "      <th>Pickup Centroid Location</th>\n",
       "      <th>Dropoff Centroid Latitude</th>\n",
       "      <th>Dropoff Centroid Longitude</th>\n",
       "      <th>Dropoff Centroid Location</th>\n",
       "    </tr>\n",
       "  </thead>\n",
       "  <tbody>\n",
       "    <tr>\n",
       "      <th>999995</th>\n",
       "      <td>101bd5c1dff64ce1ad54f7b458d3b9ebc2386775</td>\n",
       "      <td>11/09/2018 07:15:00 PM</td>\n",
       "      <td>11/09/2018 07:30:00 PM</td>\n",
       "      <td>308.0</td>\n",
       "      <td>0.9</td>\n",
       "      <td>1.703184e+10</td>\n",
       "      <td>1.703131e+10</td>\n",
       "      <td>28.0</td>\n",
       "      <td>31.0</td>\n",
       "      <td>0.0</td>\n",
       "      <td>...</td>\n",
       "      <td>2.5</td>\n",
       "      <td>2.5</td>\n",
       "      <td>True</td>\n",
       "      <td>3</td>\n",
       "      <td>41.867902</td>\n",
       "      <td>-87.642959</td>\n",
       "      <td>POINT (-87.6429586652 41.8679024175)</td>\n",
       "      <td>41.856144</td>\n",
       "      <td>-87.648978</td>\n",
       "      <td>POINT (-87.6489783241 41.8561441046)</td>\n",
       "    </tr>\n",
       "    <tr>\n",
       "      <th>999996</th>\n",
       "      <td>101bd5c64edd7e3465dd8a81d8bd7be8b459e2bf</td>\n",
       "      <td>11/13/2018 07:30:00 AM</td>\n",
       "      <td>11/13/2018 07:45:00 AM</td>\n",
       "      <td>958.0</td>\n",
       "      <td>3.9</td>\n",
       "      <td>NaN</td>\n",
       "      <td>NaN</td>\n",
       "      <td>70.0</td>\n",
       "      <td>65.0</td>\n",
       "      <td>7.5</td>\n",
       "      <td>...</td>\n",
       "      <td>2.5</td>\n",
       "      <td>10.0</td>\n",
       "      <td>True</td>\n",
       "      <td>1</td>\n",
       "      <td>41.745758</td>\n",
       "      <td>-87.708366</td>\n",
       "      <td>POINT (-87.7083657043 41.7457577128)</td>\n",
       "      <td>41.769778</td>\n",
       "      <td>-87.726930</td>\n",
       "      <td>POINT (-87.7269298425 41.7697780588)</td>\n",
       "    </tr>\n",
       "    <tr>\n",
       "      <th>999997</th>\n",
       "      <td>101bd5c780d43b17af6638951b6281224141d5e0</td>\n",
       "      <td>11/17/2018 02:45:00 AM</td>\n",
       "      <td>11/17/2018 02:45:00 AM</td>\n",
       "      <td>656.0</td>\n",
       "      <td>3.1</td>\n",
       "      <td>1.703107e+10</td>\n",
       "      <td>1.703116e+10</td>\n",
       "      <td>7.0</td>\n",
       "      <td>16.0</td>\n",
       "      <td>7.5</td>\n",
       "      <td>...</td>\n",
       "      <td>2.5</td>\n",
       "      <td>10.0</td>\n",
       "      <td>False</td>\n",
       "      <td>1</td>\n",
       "      <td>41.928967</td>\n",
       "      <td>-87.656157</td>\n",
       "      <td>POINT (-87.6561568309 41.9289672664)</td>\n",
       "      <td>41.950404</td>\n",
       "      <td>-87.702007</td>\n",
       "      <td>POINT (-87.7020071282 41.95040441070001)</td>\n",
       "    </tr>\n",
       "    <tr>\n",
       "      <th>999998</th>\n",
       "      <td>101bd935121e588c0d0279242cb4393a68700b00</td>\n",
       "      <td>11/24/2018 08:30:00 PM</td>\n",
       "      <td>11/24/2018 08:45:00 PM</td>\n",
       "      <td>385.0</td>\n",
       "      <td>1.2</td>\n",
       "      <td>1.703108e+10</td>\n",
       "      <td>1.703108e+10</td>\n",
       "      <td>8.0</td>\n",
       "      <td>8.0</td>\n",
       "      <td>7.5</td>\n",
       "      <td>...</td>\n",
       "      <td>2.8</td>\n",
       "      <td>13.3</td>\n",
       "      <td>False</td>\n",
       "      <td>1</td>\n",
       "      <td>41.893216</td>\n",
       "      <td>-87.637844</td>\n",
       "      <td>POINT (-87.6378442095 41.8932163595)</td>\n",
       "      <td>41.900221</td>\n",
       "      <td>-87.629105</td>\n",
       "      <td>POINT (-87.6291051864 41.9002212967)</td>\n",
       "    </tr>\n",
       "    <tr>\n",
       "      <th>999999</th>\n",
       "      <td>101bd99e7c80a96402c3a366e793a9ba9b8c770d</td>\n",
       "      <td>11/02/2018 02:15:00 AM</td>\n",
       "      <td>11/02/2018 02:15:00 AM</td>\n",
       "      <td>483.0</td>\n",
       "      <td>3.1</td>\n",
       "      <td>1.703183e+10</td>\n",
       "      <td>1.703124e+10</td>\n",
       "      <td>28.0</td>\n",
       "      <td>24.0</td>\n",
       "      <td>7.5</td>\n",
       "      <td>...</td>\n",
       "      <td>2.5</td>\n",
       "      <td>10.0</td>\n",
       "      <td>False</td>\n",
       "      <td>1</td>\n",
       "      <td>41.885281</td>\n",
       "      <td>-87.657233</td>\n",
       "      <td>POINT (-87.6572331997 41.8852813201)</td>\n",
       "      <td>41.899507</td>\n",
       "      <td>-87.679600</td>\n",
       "      <td>POINT (-87.6796002867 41.8995065476)</td>\n",
       "    </tr>\n",
       "  </tbody>\n",
       "</table>\n",
       "<p>5 rows × 21 columns</p>\n",
       "</div>"
      ],
      "text/plain": [
       "                                         Trip ID    Trip Start Timestamp  \\\n",
       "999995  101bd5c1dff64ce1ad54f7b458d3b9ebc2386775  11/09/2018 07:15:00 PM   \n",
       "999996  101bd5c64edd7e3465dd8a81d8bd7be8b459e2bf  11/13/2018 07:30:00 AM   \n",
       "999997  101bd5c780d43b17af6638951b6281224141d5e0  11/17/2018 02:45:00 AM   \n",
       "999998  101bd935121e588c0d0279242cb4393a68700b00  11/24/2018 08:30:00 PM   \n",
       "999999  101bd99e7c80a96402c3a366e793a9ba9b8c770d  11/02/2018 02:15:00 AM   \n",
       "\n",
       "            Trip End Timestamp  Trip Seconds  Trip Miles  Pickup Census Tract  \\\n",
       "999995  11/09/2018 07:30:00 PM         308.0         0.9         1.703184e+10   \n",
       "999996  11/13/2018 07:45:00 AM         958.0         3.9                  NaN   \n",
       "999997  11/17/2018 02:45:00 AM         656.0         3.1         1.703107e+10   \n",
       "999998  11/24/2018 08:45:00 PM         385.0         1.2         1.703108e+10   \n",
       "999999  11/02/2018 02:15:00 AM         483.0         3.1         1.703183e+10   \n",
       "\n",
       "        Dropoff Census Tract  Pickup Community Area  Dropoff Community Area  \\\n",
       "999995          1.703131e+10                   28.0                    31.0   \n",
       "999996                   NaN                   70.0                    65.0   \n",
       "999997          1.703116e+10                    7.0                    16.0   \n",
       "999998          1.703108e+10                    8.0                     8.0   \n",
       "999999          1.703124e+10                   28.0                    24.0   \n",
       "\n",
       "        Fare                    ...                     Additional Charges  \\\n",
       "999995   0.0                    ...                                    2.5   \n",
       "999996   7.5                    ...                                    2.5   \n",
       "999997   7.5                    ...                                    2.5   \n",
       "999998   7.5                    ...                                    2.8   \n",
       "999999   7.5                    ...                                    2.5   \n",
       "\n",
       "        Trip Total  Shared Trip Authorized  Trips Pooled  \\\n",
       "999995         2.5                    True             3   \n",
       "999996        10.0                    True             1   \n",
       "999997        10.0                   False             1   \n",
       "999998        13.3                   False             1   \n",
       "999999        10.0                   False             1   \n",
       "\n",
       "        Pickup Centroid Latitude  Pickup Centroid Longitude  \\\n",
       "999995                 41.867902                 -87.642959   \n",
       "999996                 41.745758                 -87.708366   \n",
       "999997                 41.928967                 -87.656157   \n",
       "999998                 41.893216                 -87.637844   \n",
       "999999                 41.885281                 -87.657233   \n",
       "\n",
       "                    Pickup Centroid Location Dropoff Centroid Latitude  \\\n",
       "999995  POINT (-87.6429586652 41.8679024175)                 41.856144   \n",
       "999996  POINT (-87.7083657043 41.7457577128)                 41.769778   \n",
       "999997  POINT (-87.6561568309 41.9289672664)                 41.950404   \n",
       "999998  POINT (-87.6378442095 41.8932163595)                 41.900221   \n",
       "999999  POINT (-87.6572331997 41.8852813201)                 41.899507   \n",
       "\n",
       "        Dropoff Centroid Longitude                 Dropoff Centroid Location  \n",
       "999995                  -87.648978      POINT (-87.6489783241 41.8561441046)  \n",
       "999996                  -87.726930      POINT (-87.7269298425 41.7697780588)  \n",
       "999997                  -87.702007  POINT (-87.7020071282 41.95040441070001)  \n",
       "999998                  -87.629105      POINT (-87.6291051864 41.9002212967)  \n",
       "999999                  -87.679600      POINT (-87.6796002867 41.8995065476)  \n",
       "\n",
       "[5 rows x 21 columns]"
      ]
     },
     "execution_count": 5,
     "metadata": {},
     "output_type": "execute_result"
    }
   ],
   "source": [
    "#Check the last 5 entries\n",
    "transportation.tail(5)"
   ]
  },
  {
   "cell_type": "code",
   "execution_count": 6,
   "metadata": {},
   "outputs": [],
   "source": [
    "# Select leave out the spatial related features.\n",
    "transportation_selected = transportation[['Trip Start Timestamp', 'Trip End Timestamp', 'Trip Seconds', 'Trip Miles', 'Pickup Community Area','Dropoff Community Area', 'Fare','Shared Trip Authorized','Trips Pooled'] ]"
   ]
  },
  {
   "cell_type": "code",
   "execution_count": 7,
   "metadata": {},
   "outputs": [
    {
     "data": {
      "text/html": [
       "<div>\n",
       "<style scoped>\n",
       "    .dataframe tbody tr th:only-of-type {\n",
       "        vertical-align: middle;\n",
       "    }\n",
       "\n",
       "    .dataframe tbody tr th {\n",
       "        vertical-align: top;\n",
       "    }\n",
       "\n",
       "    .dataframe thead th {\n",
       "        text-align: right;\n",
       "    }\n",
       "</style>\n",
       "<table border=\"1\" class=\"dataframe\">\n",
       "  <thead>\n",
       "    <tr style=\"text-align: right;\">\n",
       "      <th></th>\n",
       "      <th>Trip Start Timestamp</th>\n",
       "      <th>Trip End Timestamp</th>\n",
       "      <th>Trip Seconds</th>\n",
       "      <th>Trip Miles</th>\n",
       "      <th>Pickup Community Area</th>\n",
       "      <th>Dropoff Community Area</th>\n",
       "      <th>Fare</th>\n",
       "      <th>Shared Trip Authorized</th>\n",
       "      <th>Trips Pooled</th>\n",
       "    </tr>\n",
       "  </thead>\n",
       "  <tbody>\n",
       "    <tr>\n",
       "      <th>0</th>\n",
       "      <td>11/01/2018 08:45:00 AM</td>\n",
       "      <td>11/01/2018 09:30:00 AM</td>\n",
       "      <td>3140.0</td>\n",
       "      <td>38.5</td>\n",
       "      <td>NaN</td>\n",
       "      <td>56.0</td>\n",
       "      <td>47.5</td>\n",
       "      <td>False</td>\n",
       "      <td>1</td>\n",
       "    </tr>\n",
       "    <tr>\n",
       "      <th>1</th>\n",
       "      <td>11/01/2018 02:00:00 AM</td>\n",
       "      <td>11/01/2018 02:15:00 AM</td>\n",
       "      <td>1031.0</td>\n",
       "      <td>5.3</td>\n",
       "      <td>70.0</td>\n",
       "      <td>NaN</td>\n",
       "      <td>10.0</td>\n",
       "      <td>False</td>\n",
       "      <td>1</td>\n",
       "    </tr>\n",
       "    <tr>\n",
       "      <th>2</th>\n",
       "      <td>11/01/2018 08:15:00 PM</td>\n",
       "      <td>11/01/2018 09:15:00 PM</td>\n",
       "      <td>4125.0</td>\n",
       "      <td>49.9</td>\n",
       "      <td>8.0</td>\n",
       "      <td>NaN</td>\n",
       "      <td>62.5</td>\n",
       "      <td>False</td>\n",
       "      <td>1</td>\n",
       "    </tr>\n",
       "    <tr>\n",
       "      <th>3</th>\n",
       "      <td>11/01/2018 03:45:00 AM</td>\n",
       "      <td>11/01/2018 04:15:00 AM</td>\n",
       "      <td>1229.0</td>\n",
       "      <td>11.7</td>\n",
       "      <td>22.0</td>\n",
       "      <td>NaN</td>\n",
       "      <td>7.5</td>\n",
       "      <td>True</td>\n",
       "      <td>3</td>\n",
       "    </tr>\n",
       "    <tr>\n",
       "      <th>4</th>\n",
       "      <td>11/01/2018 05:00:00 PM</td>\n",
       "      <td>11/01/2018 06:00:00 PM</td>\n",
       "      <td>3383.0</td>\n",
       "      <td>12.3</td>\n",
       "      <td>NaN</td>\n",
       "      <td>32.0</td>\n",
       "      <td>27.5</td>\n",
       "      <td>False</td>\n",
       "      <td>1</td>\n",
       "    </tr>\n",
       "  </tbody>\n",
       "</table>\n",
       "</div>"
      ],
      "text/plain": [
       "     Trip Start Timestamp      Trip End Timestamp  Trip Seconds  Trip Miles  \\\n",
       "0  11/01/2018 08:45:00 AM  11/01/2018 09:30:00 AM        3140.0        38.5   \n",
       "1  11/01/2018 02:00:00 AM  11/01/2018 02:15:00 AM        1031.0         5.3   \n",
       "2  11/01/2018 08:15:00 PM  11/01/2018 09:15:00 PM        4125.0        49.9   \n",
       "3  11/01/2018 03:45:00 AM  11/01/2018 04:15:00 AM        1229.0        11.7   \n",
       "4  11/01/2018 05:00:00 PM  11/01/2018 06:00:00 PM        3383.0        12.3   \n",
       "\n",
       "   Pickup Community Area  Dropoff Community Area  Fare  \\\n",
       "0                    NaN                    56.0  47.5   \n",
       "1                   70.0                     NaN  10.0   \n",
       "2                    8.0                     NaN  62.5   \n",
       "3                   22.0                     NaN   7.5   \n",
       "4                    NaN                    32.0  27.5   \n",
       "\n",
       "   Shared Trip Authorized  Trips Pooled  \n",
       "0                   False             1  \n",
       "1                   False             1  \n",
       "2                   False             1  \n",
       "3                    True             3  \n",
       "4                   False             1  "
      ]
     },
     "execution_count": 7,
     "metadata": {},
     "output_type": "execute_result"
    }
   ],
   "source": [
    "#Check the dataset after selection\n",
    "transportation_selected.head(5)"
   ]
  },
  {
   "cell_type": "code",
   "execution_count": 8,
   "metadata": {},
   "outputs": [
    {
     "data": {
      "text/plain": [
       "Trip Start Timestamp       object\n",
       "Trip End Timestamp         object\n",
       "Trip Seconds              float64\n",
       "Trip Miles                float64\n",
       "Pickup Community Area     float64\n",
       "Dropoff Community Area    float64\n",
       "Fare                      float64\n",
       "Shared Trip Authorized       bool\n",
       "Trips Pooled                int64\n",
       "dtype: object"
      ]
     },
     "execution_count": 8,
     "metadata": {},
     "output_type": "execute_result"
    }
   ],
   "source": [
    "#Check again the data types\n",
    "transportation_selected.dtypes"
   ]
  },
  {
   "cell_type": "code",
   "execution_count": 9,
   "metadata": {
    "scrolled": true
   },
   "outputs": [
    {
     "data": {
      "text/plain": [
       "Trip Start Timestamp          0\n",
       "Trip End Timestamp            0\n",
       "Trip Seconds                155\n",
       "Trip Miles                    0\n",
       "Pickup Community Area     75005\n",
       "Dropoff Community Area    84427\n",
       "Fare                          4\n",
       "Shared Trip Authorized        0\n",
       "Trips Pooled                  0\n",
       "dtype: int64"
      ]
     },
     "execution_count": 9,
     "metadata": {},
     "output_type": "execute_result"
    }
   ],
   "source": [
    "#Find out how many NaN values in the dataset\n",
    "transportation_selected.isnull().sum()"
   ]
  },
  {
   "cell_type": "code",
   "execution_count": 10,
   "metadata": {},
   "outputs": [
    {
     "name": "stderr",
     "output_type": "stream",
     "text": [
      "C:\\Users\\yunin\\Anaconda2\\envs\\Python 3.6\\lib\\site-packages\\sklearn\\utils\\deprecation.py:58: DeprecationWarning: Class Imputer is deprecated; Imputer was deprecated in version 0.20 and will be removed in 0.22. Import impute.SimpleImputer from sklearn instead.\n",
      "  warnings.warn(msg, category=DeprecationWarning)\n",
      "C:\\Users\\yunin\\Anaconda2\\envs\\Python 3.6\\lib\\site-packages\\sklearn\\utils\\deprecation.py:58: DeprecationWarning: Class Imputer is deprecated; Imputer was deprecated in version 0.20 and will be removed in 0.22. Import impute.SimpleImputer from sklearn instead.\n",
      "  warnings.warn(msg, category=DeprecationWarning)\n",
      "C:\\Users\\yunin\\Anaconda2\\envs\\Python 3.6\\lib\\site-packages\\ipykernel_launcher.py:5: SettingWithCopyWarning: \n",
      "A value is trying to be set on a copy of a slice from a DataFrame.\n",
      "Try using .loc[row_indexer,col_indexer] = value instead\n",
      "\n",
      "See the caveats in the documentation: http://pandas.pydata.org/pandas-docs/stable/indexing.html#indexing-view-versus-copy\n",
      "  \"\"\"\n",
      "C:\\Users\\yunin\\Anaconda2\\envs\\Python 3.6\\lib\\site-packages\\pandas\\core\\indexing.py:543: SettingWithCopyWarning: \n",
      "A value is trying to be set on a copy of a slice from a DataFrame.\n",
      "Try using .loc[row_indexer,col_indexer] = value instead\n",
      "\n",
      "See the caveats in the documentation: http://pandas.pydata.org/pandas-docs/stable/indexing.html#indexing-view-versus-copy\n",
      "  self.obj[item] = s\n"
     ]
    }
   ],
   "source": [
    "#Imputation performed. Impute the missing values with mean of the data for continues numerical data\n",
    "from sklearn.preprocessing import Imputer\n",
    "imputer = Imputer(missing_values = 'NaN', strategy = 'mean', axis = 0)\n",
    "columns_to_impute = ['Trip Seconds','Fare']\n",
    "transportation_selected[columns_to_impute] = Imputer().fit_transform(transportation_selected[columns_to_impute])"
   ]
  },
  {
   "cell_type": "code",
   "execution_count": 11,
   "metadata": {},
   "outputs": [
    {
     "data": {
      "text/plain": [
       "Trip Start Timestamp          0\n",
       "Trip End Timestamp            0\n",
       "Trip Seconds                  0\n",
       "Trip Miles                    0\n",
       "Pickup Community Area     75005\n",
       "Dropoff Community Area    84427\n",
       "Fare                          0\n",
       "Shared Trip Authorized        0\n",
       "Trips Pooled                  0\n",
       "dtype: int64"
      ]
     },
     "execution_count": 11,
     "metadata": {},
     "output_type": "execute_result"
    }
   ],
   "source": [
    "# Check number of missing values again. \n",
    "transportation_selected.isnull().sum()"
   ]
  },
  {
   "cell_type": "code",
   "execution_count": 12,
   "metadata": {},
   "outputs": [
    {
     "name": "stderr",
     "output_type": "stream",
     "text": [
      "C:\\Users\\yunin\\Anaconda2\\envs\\Python 3.6\\lib\\site-packages\\ipykernel_launcher.py:2: SettingWithCopyWarning: \n",
      "A value is trying to be set on a copy of a slice from a DataFrame.\n",
      "Try using .loc[row_indexer,col_indexer] = value instead\n",
      "\n",
      "See the caveats in the documentation: http://pandas.pydata.org/pandas-docs/stable/indexing.html#indexing-view-versus-copy\n",
      "  \n",
      "C:\\Users\\yunin\\Anaconda2\\envs\\Python 3.6\\lib\\site-packages\\ipykernel_launcher.py:3: SettingWithCopyWarning: \n",
      "A value is trying to be set on a copy of a slice from a DataFrame.\n",
      "Try using .loc[row_indexer,col_indexer] = value instead\n",
      "\n",
      "See the caveats in the documentation: http://pandas.pydata.org/pandas-docs/stable/indexing.html#indexing-view-versus-copy\n",
      "  This is separate from the ipykernel package so we can avoid doing imports until\n"
     ]
    }
   ],
   "source": [
    "# for Pickup Community Area and Dropoff Community Area, replace NaN with 0 as this should be considered as a discrete numerical values\n",
    "transportation_selected['Pickup Community Area'] = transportation_selected['Pickup Community Area'].replace('nan', np.nan).fillna(0)\n",
    "transportation_selected['Dropoff Community Area'] = transportation_selected['Dropoff Community Area'].replace('nan', np.nan).fillna(0)\n"
   ]
  },
  {
   "cell_type": "code",
   "execution_count": 13,
   "metadata": {},
   "outputs": [
    {
     "data": {
      "text/plain": [
       "Trip Start Timestamp      0\n",
       "Trip End Timestamp        0\n",
       "Trip Seconds              0\n",
       "Trip Miles                0\n",
       "Pickup Community Area     0\n",
       "Dropoff Community Area    0\n",
       "Fare                      0\n",
       "Shared Trip Authorized    0\n",
       "Trips Pooled              0\n",
       "dtype: int64"
      ]
     },
     "execution_count": 13,
     "metadata": {},
     "output_type": "execute_result"
    }
   ],
   "source": [
    "# final check of the data set for missing values. \n",
    "transportation_selected.isnull().sum()"
   ]
  },
  {
   "cell_type": "code",
   "execution_count": 14,
   "metadata": {},
   "outputs": [
    {
     "name": "stderr",
     "output_type": "stream",
     "text": [
      "C:\\Users\\yunin\\Anaconda2\\envs\\Python 3.6\\lib\\site-packages\\ipykernel_launcher.py:2: SettingWithCopyWarning: \n",
      "A value is trying to be set on a copy of a slice from a DataFrame.\n",
      "Try using .loc[row_indexer,col_indexer] = value instead\n",
      "\n",
      "See the caveats in the documentation: http://pandas.pydata.org/pandas-docs/stable/indexing.html#indexing-view-versus-copy\n",
      "  \n",
      "C:\\Users\\yunin\\Anaconda2\\envs\\Python 3.6\\lib\\site-packages\\ipykernel_launcher.py:3: SettingWithCopyWarning: \n",
      "A value is trying to be set on a copy of a slice from a DataFrame.\n",
      "Try using .loc[row_indexer,col_indexer] = value instead\n",
      "\n",
      "See the caveats in the documentation: http://pandas.pydata.org/pandas-docs/stable/indexing.html#indexing-view-versus-copy\n",
      "  This is separate from the ipykernel package so we can avoid doing imports until\n"
     ]
    }
   ],
   "source": [
    "# convert Time features to datetime \n",
    "transportation_selected['Trip Start Timestamp']= pd.to_datetime(transportation_selected['Trip Start Timestamp'])\n",
    "transportation_selected['Trip End Timestamp']= pd.to_datetime(transportation_selected['Trip End Timestamp'])"
   ]
  },
  {
   "cell_type": "code",
   "execution_count": 15,
   "metadata": {},
   "outputs": [
    {
     "name": "stderr",
     "output_type": "stream",
     "text": [
      "C:\\Users\\yunin\\Anaconda2\\envs\\Python 3.6\\lib\\site-packages\\ipykernel_launcher.py:1: SettingWithCopyWarning: \n",
      "A value is trying to be set on a copy of a slice from a DataFrame.\n",
      "Try using .loc[row_indexer,col_indexer] = value instead\n",
      "\n",
      "See the caveats in the documentation: http://pandas.pydata.org/pandas-docs/stable/indexing.html#indexing-view-versus-copy\n",
      "  \"\"\"Entry point for launching an IPython kernel.\n",
      "C:\\Users\\yunin\\Anaconda2\\envs\\Python 3.6\\lib\\site-packages\\ipykernel_launcher.py:2: SettingWithCopyWarning: \n",
      "A value is trying to be set on a copy of a slice from a DataFrame.\n",
      "Try using .loc[row_indexer,col_indexer] = value instead\n",
      "\n",
      "See the caveats in the documentation: http://pandas.pydata.org/pandas-docs/stable/indexing.html#indexing-view-versus-copy\n",
      "  \n"
     ]
    }
   ],
   "source": [
    "transportation_selected['Pickup Community Area'] =transportation_selected['Pickup Community Area'] .astype('category')\n",
    "transportation_selected['Dropoff Community Area'] =transportation_selected['Dropoff Community Area'] .astype('category')\n"
   ]
  },
  {
   "cell_type": "code",
   "execution_count": 16,
   "metadata": {},
   "outputs": [
    {
     "data": {
      "text/html": [
       "<div>\n",
       "<style scoped>\n",
       "    .dataframe tbody tr th:only-of-type {\n",
       "        vertical-align: middle;\n",
       "    }\n",
       "\n",
       "    .dataframe tbody tr th {\n",
       "        vertical-align: top;\n",
       "    }\n",
       "\n",
       "    .dataframe thead th {\n",
       "        text-align: right;\n",
       "    }\n",
       "</style>\n",
       "<table border=\"1\" class=\"dataframe\">\n",
       "  <thead>\n",
       "    <tr style=\"text-align: right;\">\n",
       "      <th></th>\n",
       "      <th>Trip Seconds</th>\n",
       "      <th>Trip Miles</th>\n",
       "      <th>Fare</th>\n",
       "      <th>Trips Pooled</th>\n",
       "    </tr>\n",
       "  </thead>\n",
       "  <tbody>\n",
       "    <tr>\n",
       "      <th>count</th>\n",
       "      <td>1,000,000.00</td>\n",
       "      <td>1,000,000.00</td>\n",
       "      <td>1,000,000.00</td>\n",
       "      <td>1,000,000.00</td>\n",
       "    </tr>\n",
       "    <tr>\n",
       "      <th>mean</th>\n",
       "      <td>1,092.39</td>\n",
       "      <td>6.21</td>\n",
       "      <td>11.43</td>\n",
       "      <td>1.28</td>\n",
       "    </tr>\n",
       "    <tr>\n",
       "      <th>std</th>\n",
       "      <td>793.92</td>\n",
       "      <td>7.07</td>\n",
       "      <td>10.03</td>\n",
       "      <td>0.70</td>\n",
       "    </tr>\n",
       "    <tr>\n",
       "      <th>min</th>\n",
       "      <td>0.00</td>\n",
       "      <td>0.00</td>\n",
       "      <td>0.00</td>\n",
       "      <td>1.00</td>\n",
       "    </tr>\n",
       "    <tr>\n",
       "      <th>25%</th>\n",
       "      <td>539.00</td>\n",
       "      <td>1.80</td>\n",
       "      <td>5.00</td>\n",
       "      <td>1.00</td>\n",
       "    </tr>\n",
       "    <tr>\n",
       "      <th>50%</th>\n",
       "      <td>873.00</td>\n",
       "      <td>3.60</td>\n",
       "      <td>7.50</td>\n",
       "      <td>1.00</td>\n",
       "    </tr>\n",
       "    <tr>\n",
       "      <th>75%</th>\n",
       "      <td>1,421.00</td>\n",
       "      <td>7.70</td>\n",
       "      <td>12.50</td>\n",
       "      <td>1.00</td>\n",
       "    </tr>\n",
       "    <tr>\n",
       "      <th>max</th>\n",
       "      <td>47,760.00</td>\n",
       "      <td>273.60</td>\n",
       "      <td>700.00</td>\n",
       "      <td>12.00</td>\n",
       "    </tr>\n",
       "  </tbody>\n",
       "</table>\n",
       "</div>"
      ],
      "text/plain": [
       "       Trip Seconds   Trip Miles         Fare  Trips Pooled\n",
       "count  1,000,000.00 1,000,000.00 1,000,000.00  1,000,000.00\n",
       "mean       1,092.39         6.21        11.43          1.28\n",
       "std          793.92         7.07        10.03          0.70\n",
       "min            0.00         0.00         0.00          1.00\n",
       "25%          539.00         1.80         5.00          1.00\n",
       "50%          873.00         3.60         7.50          1.00\n",
       "75%        1,421.00         7.70        12.50          1.00\n",
       "max       47,760.00       273.60       700.00         12.00"
      ]
     },
     "execution_count": 16,
     "metadata": {},
     "output_type": "execute_result"
    }
   ],
   "source": [
    "pd.options.display.float_format = '{:,.2f}'.format\n",
    "transportation_selected.describe()"
   ]
  },
  {
   "cell_type": "code",
   "execution_count": 17,
   "metadata": {},
   "outputs": [
    {
     "name": "stderr",
     "output_type": "stream",
     "text": [
      "C:\\Users\\yunin\\Anaconda2\\envs\\Python 3.6\\lib\\site-packages\\pandas\\core\\frame.py:3781: SettingWithCopyWarning: \n",
      "A value is trying to be set on a copy of a slice from a DataFrame\n",
      "\n",
      "See the caveats in the documentation: http://pandas.pydata.org/pandas-docs/stable/indexing.html#indexing-view-versus-copy\n",
      "  return super(DataFrame, self).rename(**kwargs)\n"
     ]
    }
   ],
   "source": [
    "transportation_selected.rename(columns={'Trip Seconds': 'Trip_seconds', 'Trip Miles': 'Trip_miles'}, inplace=True)"
   ]
  },
  {
   "cell_type": "code",
   "execution_count": 18,
   "metadata": {},
   "outputs": [
    {
     "data": {
      "text/plain": [
       "Trip Start Timestamp      datetime64[ns]\n",
       "Trip End Timestamp        datetime64[ns]\n",
       "Trip_seconds                     float64\n",
       "Trip_miles                       float64\n",
       "Pickup Community Area           category\n",
       "Dropoff Community Area          category\n",
       "Fare                             float64\n",
       "Shared Trip Authorized              bool\n",
       "Trips Pooled                       int64\n",
       "dtype: object"
      ]
     },
     "execution_count": 18,
     "metadata": {},
     "output_type": "execute_result"
    }
   ],
   "source": [
    "transportation_selected.dtypes"
   ]
  },
  {
   "cell_type": "code",
   "execution_count": 19,
   "metadata": {},
   "outputs": [
    {
     "data": {
      "image/png": "[encoded data removed]",
      "text/plain": [
       "<Figure size 720x576 with 1 Axes>"
      ]
     },
     "metadata": {
      "needs_background": "light"
     },
     "output_type": "display_data"
    }
   ],
   "source": [
    "ax = sns.countplot(x= 'Shared Trip Authorized', data=transportation_selected)\n",
    "fig = plt.gcf()\n",
    "fig.set_size_inches(10, 8)\n",
    "plt.savefig('Shared Trip Authorized Count.png')\n",
    "plt.show()"
   ]
  },
  {
   "cell_type": "code",
   "execution_count": 20,
   "metadata": {},
   "outputs": [
    {
     "name": "stdout",
     "output_type": "stream",
     "text": [
      "Shared Trip Authorized\n",
      "False    747609\n",
      "True     252391\n",
      "dtype: int64\n"
     ]
    }
   ],
   "source": [
    "groupby1 =transportation_selected.groupby(['Shared Trip Authorized']).size()\n",
    "print(groupby1)"
   ]
  },
  {
   "cell_type": "code",
   "execution_count": 21,
   "metadata": {
    "scrolled": false
   },
   "outputs": [
    {
     "data": {
      "text/html": [
       "<style  type=\"text/css\" >\n",
       "    #T_5585ce34_84c0_11e9_91e1_c83dd4ec8c0arow0_col0 {\n",
       "            background-color:  #b40426;\n",
       "        }    #T_5585ce34_84c0_11e9_91e1_c83dd4ec8c0arow0_col1 {\n",
       "            background-color:  #eb7d62;\n",
       "        }    #T_5585ce34_84c0_11e9_91e1_c83dd4ec8c0arow0_col2 {\n",
       "            background-color:  #ea7b60;\n",
       "        }    #T_5585ce34_84c0_11e9_91e1_c83dd4ec8c0arow0_col3 {\n",
       "            background-color:  #84a7fc;\n",
       "        }    #T_5585ce34_84c0_11e9_91e1_c83dd4ec8c0arow0_col4 {\n",
       "            background-color:  #94b6ff;\n",
       "        }    #T_5585ce34_84c0_11e9_91e1_c83dd4ec8c0arow1_col0 {\n",
       "            background-color:  #ee8669;\n",
       "        }    #T_5585ce34_84c0_11e9_91e1_c83dd4ec8c0arow1_col1 {\n",
       "            background-color:  #b40426;\n",
       "        }    #T_5585ce34_84c0_11e9_91e1_c83dd4ec8c0arow1_col2 {\n",
       "            background-color:  #d24b40;\n",
       "        }    #T_5585ce34_84c0_11e9_91e1_c83dd4ec8c0arow1_col3 {\n",
       "            background-color:  #6788ee;\n",
       "        }    #T_5585ce34_84c0_11e9_91e1_c83dd4ec8c0arow1_col4 {\n",
       "            background-color:  #688aef;\n",
       "        }    #T_5585ce34_84c0_11e9_91e1_c83dd4ec8c0arow2_col0 {\n",
       "            background-color:  #f29274;\n",
       "        }    #T_5585ce34_84c0_11e9_91e1_c83dd4ec8c0arow2_col1 {\n",
       "            background-color:  #d75445;\n",
       "        }    #T_5585ce34_84c0_11e9_91e1_c83dd4ec8c0arow2_col2 {\n",
       "            background-color:  #b40426;\n",
       "        }    #T_5585ce34_84c0_11e9_91e1_c83dd4ec8c0arow2_col3 {\n",
       "            background-color:  #3b4cc0;\n",
       "        }    #T_5585ce34_84c0_11e9_91e1_c83dd4ec8c0arow2_col4 {\n",
       "            background-color:  #3b4cc0;\n",
       "        }    #T_5585ce34_84c0_11e9_91e1_c83dd4ec8c0arow3_col0 {\n",
       "            background-color:  #3b4cc0;\n",
       "        }    #T_5585ce34_84c0_11e9_91e1_c83dd4ec8c0arow3_col1 {\n",
       "            background-color:  #3b4cc0;\n",
       "        }    #T_5585ce34_84c0_11e9_91e1_c83dd4ec8c0arow3_col2 {\n",
       "            background-color:  #3b4cc0;\n",
       "        }    #T_5585ce34_84c0_11e9_91e1_c83dd4ec8c0arow3_col3 {\n",
       "            background-color:  #b40426;\n",
       "        }    #T_5585ce34_84c0_11e9_91e1_c83dd4ec8c0arow3_col4 {\n",
       "            background-color:  #f6a283;\n",
       "        }    #T_5585ce34_84c0_11e9_91e1_c83dd4ec8c0arow4_col0 {\n",
       "            background-color:  #536edd;\n",
       "        }    #T_5585ce34_84c0_11e9_91e1_c83dd4ec8c0arow4_col1 {\n",
       "            background-color:  #4257c9;\n",
       "        }    #T_5585ce34_84c0_11e9_91e1_c83dd4ec8c0arow4_col2 {\n",
       "            background-color:  #3f53c6;\n",
       "        }    #T_5585ce34_84c0_11e9_91e1_c83dd4ec8c0arow4_col3 {\n",
       "            background-color:  #f5a081;\n",
       "        }    #T_5585ce34_84c0_11e9_91e1_c83dd4ec8c0arow4_col4 {\n",
       "            background-color:  #b40426;\n",
       "        }</style>  \n",
       "<table id=\"T_5585ce34_84c0_11e9_91e1_c83dd4ec8c0a\" > \n",
       "<thead>    <tr> \n",
       "        <th class=\"blank level0\" ></th> \n",
       "        <th class=\"col_heading level0 col0\" >Trip_seconds</th> \n",
       "        <th class=\"col_heading level0 col1\" >Trip_miles</th> \n",
       "        <th class=\"col_heading level0 col2\" >Fare</th> \n",
       "        <th class=\"col_heading level0 col3\" >Shared Trip Authorized</th> \n",
       "        <th class=\"col_heading level0 col4\" >Trips Pooled</th> \n",
       "    </tr></thead> \n",
       "<tbody>    <tr> \n",
       "        <th id=\"T_5585ce34_84c0_11e9_91e1_c83dd4ec8c0alevel0_row0\" class=\"row_heading level0 row0\" >Trip_seconds</th> \n",
       "        <td id=\"T_5585ce34_84c0_11e9_91e1_c83dd4ec8c0arow0_col0\" class=\"data row0 col0\" >1</td> \n",
       "        <td id=\"T_5585ce34_84c0_11e9_91e1_c83dd4ec8c0arow0_col1\" class=\"data row0 col1\" >0.81</td> \n",
       "        <td id=\"T_5585ce34_84c0_11e9_91e1_c83dd4ec8c0arow0_col2\" class=\"data row0 col2\" >0.79</td> \n",
       "        <td id=\"T_5585ce34_84c0_11e9_91e1_c83dd4ec8c0arow0_col3\" class=\"data row0 col3\" >0.076</td> \n",
       "        <td id=\"T_5585ce34_84c0_11e9_91e1_c83dd4ec8c0arow0_col4\" class=\"data row0 col4\" >0.15</td> \n",
       "    </tr>    <tr> \n",
       "        <th id=\"T_5585ce34_84c0_11e9_91e1_c83dd4ec8c0alevel0_row1\" class=\"row_heading level0 row1\" >Trip_miles</th> \n",
       "        <td id=\"T_5585ce34_84c0_11e9_91e1_c83dd4ec8c0arow1_col0\" class=\"data row1 col0\" >0.81</td> \n",
       "        <td id=\"T_5585ce34_84c0_11e9_91e1_c83dd4ec8c0arow1_col1\" class=\"data row1 col1\" >1</td> \n",
       "        <td id=\"T_5585ce34_84c0_11e9_91e1_c83dd4ec8c0arow1_col2\" class=\"data row1 col2\" >0.89</td> \n",
       "        <td id=\"T_5585ce34_84c0_11e9_91e1_c83dd4ec8c0arow1_col3\" class=\"data row1 col3\" >-0.022</td> \n",
       "        <td id=\"T_5585ce34_84c0_11e9_91e1_c83dd4ec8c0arow1_col4\" class=\"data row1 col4\" >0.0028</td> \n",
       "    </tr>    <tr> \n",
       "        <th id=\"T_5585ce34_84c0_11e9_91e1_c83dd4ec8c0alevel0_row2\" class=\"row_heading level0 row2\" >Fare</th> \n",
       "        <td id=\"T_5585ce34_84c0_11e9_91e1_c83dd4ec8c0arow2_col0\" class=\"data row2 col0\" >0.79</td> \n",
       "        <td id=\"T_5585ce34_84c0_11e9_91e1_c83dd4ec8c0arow2_col1\" class=\"data row2 col1\" >0.89</td> \n",
       "        <td id=\"T_5585ce34_84c0_11e9_91e1_c83dd4ec8c0arow2_col2\" class=\"data row2 col2\" >1</td> \n",
       "        <td id=\"T_5585ce34_84c0_11e9_91e1_c83dd4ec8c0arow2_col3\" class=\"data row2 col3\" >-0.19</td> \n",
       "        <td id=\"T_5585ce34_84c0_11e9_91e1_c83dd4ec8c0arow2_col4\" class=\"data row2 col4\" >-0.17</td> \n",
       "    </tr>    <tr> \n",
       "        <th id=\"T_5585ce34_84c0_11e9_91e1_c83dd4ec8c0alevel0_row3\" class=\"row_heading level0 row3\" >Shared Trip Authorized</th> \n",
       "        <td id=\"T_5585ce34_84c0_11e9_91e1_c83dd4ec8c0arow3_col0\" class=\"data row3 col0\" >0.076</td> \n",
       "        <td id=\"T_5585ce34_84c0_11e9_91e1_c83dd4ec8c0arow3_col1\" class=\"data row3 col1\" >-0.022</td> \n",
       "        <td id=\"T_5585ce34_84c0_11e9_91e1_c83dd4ec8c0arow3_col2\" class=\"data row3 col2\" >-0.19</td> \n",
       "        <td id=\"T_5585ce34_84c0_11e9_91e1_c83dd4ec8c0arow3_col3\" class=\"data row3 col3\" >1</td> \n",
       "        <td id=\"T_5585ce34_84c0_11e9_91e1_c83dd4ec8c0arow3_col4\" class=\"data row3 col4\" >0.68</td> \n",
       "    </tr>    <tr> \n",
       "        <th id=\"T_5585ce34_84c0_11e9_91e1_c83dd4ec8c0alevel0_row4\" class=\"row_heading level0 row4\" >Trips Pooled</th> \n",
       "        <td id=\"T_5585ce34_84c0_11e9_91e1_c83dd4ec8c0arow4_col0\" class=\"data row4 col0\" >0.15</td> \n",
       "        <td id=\"T_5585ce34_84c0_11e9_91e1_c83dd4ec8c0arow4_col1\" class=\"data row4 col1\" >0.0028</td> \n",
       "        <td id=\"T_5585ce34_84c0_11e9_91e1_c83dd4ec8c0arow4_col2\" class=\"data row4 col2\" >-0.17</td> \n",
       "        <td id=\"T_5585ce34_84c0_11e9_91e1_c83dd4ec8c0arow4_col3\" class=\"data row4 col3\" >0.68</td> \n",
       "        <td id=\"T_5585ce34_84c0_11e9_91e1_c83dd4ec8c0arow4_col4\" class=\"data row4 col4\" >1</td> \n",
       "    </tr></tbody> \n",
       "</table> "
      ],
      "text/plain": [
       "<pandas.io.formats.style.Styler at 0x2429d4bdeb8>"
      ]
     },
     "execution_count": 21,
     "metadata": {},
     "output_type": "execute_result"
    }
   ],
   "source": [
    "corr = transportation_selected.corr()\n",
    "corr.style.background_gradient(cmap='coolwarm').set_precision(2)"
   ]
  },
  {
   "cell_type": "code",
   "execution_count": 22,
   "metadata": {},
   "outputs": [
    {
     "name": "stderr",
     "output_type": "stream",
     "text": [
      "C:\\Users\\yunin\\Anaconda2\\envs\\Python 3.6\\lib\\site-packages\\ipykernel_launcher.py:2: SettingWithCopyWarning: \n",
      "A value is trying to be set on a copy of a slice from a DataFrame.\n",
      "Try using .loc[row_indexer,col_indexer] = value instead\n",
      "\n",
      "See the caveats in the documentation: http://pandas.pydata.org/pandas-docs/stable/indexing.html#indexing-view-versus-copy\n",
      "  \n"
     ]
    }
   ],
   "source": [
    "from datetime import datetime\n",
    "transportation_selected['weekday']=transportation_selected['Trip Start Timestamp'].dt.strftime(\"%A\")"
   ]
  },
  {
   "cell_type": "code",
   "execution_count": 23,
   "metadata": {},
   "outputs": [
    {
     "data": {
      "text/html": [
       "<div>\n",
       "<style scoped>\n",
       "    .dataframe tbody tr th:only-of-type {\n",
       "        vertical-align: middle;\n",
       "    }\n",
       "\n",
       "    .dataframe tbody tr th {\n",
       "        vertical-align: top;\n",
       "    }\n",
       "\n",
       "    .dataframe thead th {\n",
       "        text-align: right;\n",
       "    }\n",
       "</style>\n",
       "<table border=\"1\" class=\"dataframe\">\n",
       "  <thead>\n",
       "    <tr style=\"text-align: right;\">\n",
       "      <th></th>\n",
       "      <th>Trip Start Timestamp</th>\n",
       "      <th>Trip End Timestamp</th>\n",
       "      <th>Trip_seconds</th>\n",
       "      <th>Trip_miles</th>\n",
       "      <th>Pickup Community Area</th>\n",
       "      <th>Dropoff Community Area</th>\n",
       "      <th>Fare</th>\n",
       "      <th>Shared Trip Authorized</th>\n",
       "      <th>Trips Pooled</th>\n",
       "      <th>weekday</th>\n",
       "    </tr>\n",
       "  </thead>\n",
       "  <tbody>\n",
       "    <tr>\n",
       "      <th>999995</th>\n",
       "      <td>2018-11-09 19:15:00</td>\n",
       "      <td>2018-11-09 19:30:00</td>\n",
       "      <td>308.00</td>\n",
       "      <td>0.90</td>\n",
       "      <td>28.00</td>\n",
       "      <td>31.00</td>\n",
       "      <td>0.00</td>\n",
       "      <td>True</td>\n",
       "      <td>3</td>\n",
       "      <td>Friday</td>\n",
       "    </tr>\n",
       "    <tr>\n",
       "      <th>999996</th>\n",
       "      <td>2018-11-13 07:30:00</td>\n",
       "      <td>2018-11-13 07:45:00</td>\n",
       "      <td>958.00</td>\n",
       "      <td>3.90</td>\n",
       "      <td>70.00</td>\n",
       "      <td>65.00</td>\n",
       "      <td>7.50</td>\n",
       "      <td>True</td>\n",
       "      <td>1</td>\n",
       "      <td>Tuesday</td>\n",
       "    </tr>\n",
       "    <tr>\n",
       "      <th>999997</th>\n",
       "      <td>2018-11-17 02:45:00</td>\n",
       "      <td>2018-11-17 02:45:00</td>\n",
       "      <td>656.00</td>\n",
       "      <td>3.10</td>\n",
       "      <td>7.00</td>\n",
       "      <td>16.00</td>\n",
       "      <td>7.50</td>\n",
       "      <td>False</td>\n",
       "      <td>1</td>\n",
       "      <td>Saturday</td>\n",
       "    </tr>\n",
       "    <tr>\n",
       "      <th>999998</th>\n",
       "      <td>2018-11-24 20:30:00</td>\n",
       "      <td>2018-11-24 20:45:00</td>\n",
       "      <td>385.00</td>\n",
       "      <td>1.20</td>\n",
       "      <td>8.00</td>\n",
       "      <td>8.00</td>\n",
       "      <td>7.50</td>\n",
       "      <td>False</td>\n",
       "      <td>1</td>\n",
       "      <td>Saturday</td>\n",
       "    </tr>\n",
       "    <tr>\n",
       "      <th>999999</th>\n",
       "      <td>2018-11-02 02:15:00</td>\n",
       "      <td>2018-11-02 02:15:00</td>\n",
       "      <td>483.00</td>\n",
       "      <td>3.10</td>\n",
       "      <td>28.00</td>\n",
       "      <td>24.00</td>\n",
       "      <td>7.50</td>\n",
       "      <td>False</td>\n",
       "      <td>1</td>\n",
       "      <td>Friday</td>\n",
       "    </tr>\n",
       "  </tbody>\n",
       "</table>\n",
       "</div>"
      ],
      "text/plain": [
       "       Trip Start Timestamp  Trip End Timestamp  Trip_seconds  Trip_miles  \\\n",
       "999995  2018-11-09 19:15:00 2018-11-09 19:30:00        308.00        0.90   \n",
       "999996  2018-11-13 07:30:00 2018-11-13 07:45:00        958.00        3.90   \n",
       "999997  2018-11-17 02:45:00 2018-11-17 02:45:00        656.00        3.10   \n",
       "999998  2018-11-24 20:30:00 2018-11-24 20:45:00        385.00        1.20   \n",
       "999999  2018-11-02 02:15:00 2018-11-02 02:15:00        483.00        3.10   \n",
       "\n",
       "       Pickup Community Area Dropoff Community Area  Fare  \\\n",
       "999995                 28.00                  31.00  0.00   \n",
       "999996                 70.00                  65.00  7.50   \n",
       "999997                  7.00                  16.00  7.50   \n",
       "999998                  8.00                   8.00  7.50   \n",
       "999999                 28.00                  24.00  7.50   \n",
       "\n",
       "        Shared Trip Authorized  Trips Pooled   weekday  \n",
       "999995                    True             3    Friday  \n",
       "999996                    True             1   Tuesday  \n",
       "999997                   False             1  Saturday  \n",
       "999998                   False             1  Saturday  \n",
       "999999                   False             1    Friday  "
      ]
     },
     "execution_count": 23,
     "metadata": {},
     "output_type": "execute_result"
    }
   ],
   "source": [
    "transportation_selected.tail(5)"
   ]
  },
  {
   "cell_type": "code",
   "execution_count": 24,
   "metadata": {
    "scrolled": true
   },
   "outputs": [
    {
     "data": {
      "image/png": "[encoded data removed]",
      "text/plain": [
       "<Figure size 720x576 with 1 Axes>"
      ]
     },
     "metadata": {
      "needs_background": "light"
     },
     "output_type": "display_data"
    }
   ],
   "source": [
    "order = [\"Monday\", \"Tuesday\", \"Wednesday\", \"Thursday\", \"Friday\", \"Saturday\", \"Sunday\" ]\n",
    "cx = sns.catplot(x=\"weekday\", y=\"Fare\", kind=\"box\", data=transportation_selected,order=order)\n",
    "fig = plt.gcf()\n",
    "fig.set_size_inches(10, 8)\n",
    "cx.set(ylim = (0,50))\n",
    "plt.savefig('Trip Fare By Weekday.png')\n",
    "plt.show()"
   ]
  },
  {
   "cell_type": "code",
   "execution_count": 25,
   "metadata": {},
   "outputs": [
    {
     "data": {
      "image/png": "[encoded data removed]",
      "text/plain": [
       "<Figure size 720x576 with 1 Axes>"
      ]
     },
     "metadata": {
      "needs_background": "light"
     },
     "output_type": "display_data"
    }
   ],
   "source": [
    "order = [\"Monday\", \"Tuesday\", \"Wednesday\", \"Thursday\", \"Friday\", \"Saturday\", \"Sunday\" ]\n",
    "gx = sns.catplot(x=\"weekday\", y=\"Trip_seconds\", kind=\"box\", data=transportation_selected, order = order)\n",
    "fig = plt.gcf()\n",
    "fig.set_size_inches(10, 8)\n",
    "gx.set(ylim = (0,3500))\n",
    "plt.savefig('Trip Time By Weekday.png')\n",
    "plt.show()"
   ]
  },
  {
   "cell_type": "code",
   "execution_count": 26,
   "metadata": {},
   "outputs": [
    {
     "data": {
      "image/png": "[encoded data removed]",
      "text/plain": [
       "<Figure size 720x576 with 1 Axes>"
      ]
     },
     "metadata": {
      "needs_background": "light"
     },
     "output_type": "display_data"
    }
   ],
   "source": [
    "order = [\"Monday\", \"Tuesday\", \"Wednesday\", \"Thursday\", \"Friday\", \"Saturday\", \"Sunday\" ]\n",
    "hx = sns.catplot(x=\"weekday\", y=\"Trip_miles\", kind=\"box\", data=transportation_selected, order = order)\n",
    "fig = plt.gcf()\n",
    "fig.set_size_inches(10, 8)\n",
    "hx.set(ylim = (0,30))\n",
    "plt.savefig('Trip Miles By Weekday.png')\n",
    "plt.show()"
   ]
  },
  {
   "cell_type": "code",
   "execution_count": 27,
   "metadata": {},
   "outputs": [],
   "source": [
    "import statsmodels.api as sm\n",
    "from statsmodels.formula.api import ols\n",
    "\n",
    "oneway_anova = ols('Fare ~ C(weekday)', data = transportation_selected).fit()\n",
    "oneway_anova.summary()\n",
    "with open('fareanova.txt', 'w') as fh:\n",
    "    fh.write(oneway_anova.summary().as_text())"
   ]
  },
  {
   "cell_type": "code",
   "execution_count": 28,
   "metadata": {},
   "outputs": [],
   "source": [
    "oneway_anova1 = ols('Trip_seconds ~ C(weekday)', data = transportation_selected).fit()\n",
    "oneway_anova1.summary()\n",
    "with open('tripdurationanova.txt', 'w') as fh:\n",
    "    fh.write(oneway_anova1.summary().as_text())"
   ]
  },
  {
   "cell_type": "code",
   "execution_count": 29,
   "metadata": {},
   "outputs": [],
   "source": [
    "oneway_anova2 = ols('Trip_miles ~ C(weekday)', data = transportation_selected).fit()\n",
    "oneway_anova2.summary()\n",
    "with open('tripdistanceanova.txt', 'w') as fh:\n",
    "    fh.write(oneway_anova2.summary().as_text())"
   ]
  },
  {
   "cell_type": "code",
   "execution_count": 30,
   "metadata": {},
   "outputs": [
    {
     "name": "stderr",
     "output_type": "stream",
     "text": [
      "C:\\Users\\yunin\\Anaconda2\\envs\\Python 3.6\\lib\\site-packages\\scipy\\stats\\stats.py:1713: FutureWarning: Using a non-tuple sequence for multidimensional indexing is deprecated; use `arr[tuple(seq)]` instead of `arr[seq]`. In the future this will be interpreted as an array index, `arr[np.array(seq)]`, which will result either in an error or a different result.\n",
      "  return np.add.reduce(sorted[indexer] * weights, axis=axis) / sumval\n"
     ]
    },
    {
     "data": {
      "image/png": "[encoded data removed]",
      "text/plain": [
       "<Figure size 720x576 with 1 Axes>"
      ]
     },
     "metadata": {
      "needs_background": "light"
     },
     "output_type": "display_data"
    }
   ],
   "source": [
    "# order = [\"Monday\", \"Tuesday\", \"Wednesday\", \"Thursday\", \"Friday\", \"Saturday\", \"Sunday\" ]\n",
    "dx=sns.lmplot(x=\"Trip_seconds\", y=\"Fare\", hue = 'weekday', data=transportation_selected)\n",
    "fig = plt.gcf()\n",
    "fig.set_size_inches(10, 8)\n",
    "plt.savefig('Scatter Plot of Trip Time vs Fare against day of week.png')\n",
    "plt.show()\n"
   ]
  },
  {
   "cell_type": "code",
   "execution_count": 31,
   "metadata": {},
   "outputs": [
    {
     "name": "stderr",
     "output_type": "stream",
     "text": [
      "C:\\Users\\yunin\\Anaconda2\\envs\\Python 3.6\\lib\\site-packages\\scipy\\stats\\stats.py:1713: FutureWarning: Using a non-tuple sequence for multidimensional indexing is deprecated; use `arr[tuple(seq)]` instead of `arr[seq]`. In the future this will be interpreted as an array index, `arr[np.array(seq)]`, which will result either in an error or a different result.\n",
      "  return np.add.reduce(sorted[indexer] * weights, axis=axis) / sumval\n"
     ]
    },
    {
     "data": {
      "image/png": "[encoded data removed]",
      "text/plain": [
       "<Figure size 720x576 with 1 Axes>"
      ]
     },
     "metadata": {
      "needs_background": "light"
     },
     "output_type": "display_data"
    }
   ],
   "source": [
    "ex=sns.lmplot(x=\"Trip_miles\", y=\"Fare\", hue = 'weekday', data=transportation_selected)\n",
    "ex.set(xlim = (0,280))\n",
    "fig = plt.gcf()\n",
    "fig.set_size_inches(10, 8)\n",
    "plt.savefig('Scatter Plot of Trip Distance vs Fare against day of week.png')\n",
    "plt.show()\n"
   ]
  },
  {
   "cell_type": "code",
   "execution_count": 32,
   "metadata": {},
   "outputs": [
    {
     "data": {
      "image/png": "[encoded data removed]",
      "text/plain": [
       "<Figure size 432x288 with 1 Axes>"
      ]
     },
     "metadata": {
      "needs_background": "light"
     },
     "output_type": "display_data"
    }
   ],
   "source": [
    "plt.hist(transportation_selected['Trips Pooled'], color = 'red', edgecolor = 'black',\n",
    "         bins = int(180/5))\n",
    "plt.savefig('Trip Pooled Count.png')\n",
    "plt.show()"
   ]
  },
  {
   "cell_type": "code",
   "execution_count": 33,
   "metadata": {},
   "outputs": [
    {
     "data": {
      "image/png": "[encoded data removed]",
      "text/plain": [
       "<Figure size 720x432 with 1 Axes>"
      ]
     },
     "metadata": {
      "needs_background": "light"
     },
     "output_type": "display_data"
    }
   ],
   "source": [
    "transportation_selected_1 = transportation_selected\n",
    "transportation_selected_1.index = transportation_selected_1['Trip Start Timestamp']\n",
    "mx=transportation_selected_1['Fare'].resample('D').mean().plot(title = 'Fare Over Time')\n",
    "fig = plt.gcf()\n",
    "fig.set_size_inches(10, 6)\n",
    "plt.ylabel('Fare')\n",
    "plt.xlabel('Trip Start Date')\n",
    "plt.savefig('Fare Over Time.png')\n",
    "plt.show()"
   ]
  },
  {
   "cell_type": "code",
   "execution_count": 34,
   "metadata": {},
   "outputs": [
    {
     "data": {
      "image/png": "[encoded data removed]",
      "text/plain": [
       "<Figure size 720x432 with 1 Axes>"
      ]
     },
     "metadata": {
      "needs_background": "light"
     },
     "output_type": "display_data"
    }
   ],
   "source": [
    "lx=transportation_selected_1['Trip_seconds'].resample('D').mean().plot(title = 'Trip Duration Over Time')\n",
    "fig = plt.gcf()\n",
    "fig.set_size_inches(10, 6)\n",
    "plt.ylabel('Trip Length')\n",
    "plt.xlabel('Trip Start Date')\n",
    "plt.savefig('Trip Duration Over Time.png')\n",
    "plt.show()"
   ]
  },
  {
   "cell_type": "code",
   "execution_count": 35,
   "metadata": {},
   "outputs": [
    {
     "data": {
      "image/png": "[encoded data removed]",
      "text/plain": [
       "<Figure size 720x432 with 1 Axes>"
      ]
     },
     "metadata": {
      "needs_background": "light"
     },
     "output_type": "display_data"
    }
   ],
   "source": [
    "nx=transportation_selected_1['Trip_miles'].resample('D').mean().plot(title = 'Trip Distance Over Time')\n",
    "fig = plt.gcf()\n",
    "fig.set_size_inches(10, 6)\n",
    "plt.ylabel('Trip Distance')\n",
    "plt.xlabel('Trip Start Date')\n",
    "plt.savefig('Trip Miles Over Time.png')\n",
    "plt.show()"
   ]
  },
  {
   "cell_type": "code",
   "execution_count": 36,
   "metadata": {},
   "outputs": [
    {
     "name": "stdout",
     "output_type": "stream",
     "text": [
      "The Pearson Correlation Coefficient is:  0.7850275437258065\n",
      "The p-value is:  0.0\n"
     ]
    }
   ],
   "source": [
    "# Find correlation between two numerical variables fare and trip seconds\n",
    "fare = transportation_selected['Fare']\n",
    "transportation_time = transportation_selected['Trip_seconds']\n",
    "# Calculate the Pearson Correlation Coefficient and its p-value\n",
    "statistics_result = scipy.stats.pearsonr(fare, transportation_time)\n",
    "print('The Pearson Correlation Coefficient is: ', statistics_result[0])\n",
    "print('The p-value is: ', statistics_result[1])\n"
   ]
  },
  {
   "cell_type": "code",
   "execution_count": 37,
   "metadata": {},
   "outputs": [
    {
     "name": "stdout",
     "output_type": "stream",
     "text": [
      "The Pearson Correlation Coefficient is:  0.8929456863732214\n",
      "The p-value is:  0.0\n"
     ]
    }
   ],
   "source": [
    "transportation_distance = transportation_selected['Trip_miles']\n",
    "statistics_result_1 = scipy.stats.pearsonr(fare, transportation_distance)\n",
    "print('The Pearson Correlation Coefficient is: ', statistics_result_1[0])\n",
    "print('The p-value is: ', statistics_result_1[1])\n"
   ]
  },
  {
   "cell_type": "code",
   "execution_count": 38,
   "metadata": {},
   "outputs": [
    {
     "name": "stdout",
     "output_type": "stream",
     "text": [
      "The Pearson Correlation Coefficient is:  0.811038944535514\n",
      "The p-value is:  0.0\n"
     ]
    }
   ],
   "source": [
    "statistics_result_2 = scipy.stats.pearsonr(transportation_time, transportation_distance)\n",
    "print('The Pearson Correlation Coefficient is: ', statistics_result_2[0])\n",
    "print('The p-value is: ', statistics_result_2[1])"
   ]
  },
  {
   "cell_type": "code",
   "execution_count": 39,
   "metadata": {},
   "outputs": [
    {
     "name": "stdout",
     "output_type": "stream",
     "text": [
      "Chi-Square Test value:  3884.097546458115\n",
      "p-value:  0.0\n",
      "Degree of Freedom:  6\n"
     ]
    }
   ],
   "source": [
    "#import required module\n",
    "# Use chi square test to find correlation between two categorical variable \n",
    "from scipy.stats import chi2_contingency\n",
    "\n",
    "# define a function to calculate the Chi-square statistics\n",
    "def chisq_of_df_cols(df, c1, c2):\n",
    "    groupsizes = df.groupby([c1, c2]).size()\n",
    "    ctsum = groupsizes.unstack(c1)\n",
    "    # fillna(0) is necessary to remove any NAs which will cause exceptions\n",
    "    return(chi2_contingency(ctsum.fillna(0)))\n",
    "# apply function to state and main_category\n",
    "chisq_result = chisq_of_df_cols(transportation_selected, 'Shared Trip Authorized', 'weekday')\n",
    "print('Chi-Square Test value: ', chisq_result[0])\n",
    "print('p-value: ', chisq_result[1])\n",
    "print('Degree of Freedom: ', chisq_result[2])"
   ]
  },
  {
   "cell_type": "code",
   "execution_count": 40,
   "metadata": {},
   "outputs": [
    {
     "name": "stdout",
     "output_type": "stream",
     "text": [
      "Chi-Square Test value:  16563.67007121606\n",
      "p-value:  0.0\n",
      "Degree of Freedom:  462\n"
     ]
    }
   ],
   "source": [
    "chisq_result1 = chisq_of_df_cols(transportation_selected, 'Pickup Community Area', 'weekday')\n",
    "print('Chi-Square Test value: ', chisq_result1[0])\n",
    "print('p-value: ', chisq_result1[1])\n",
    "print('Degree of Freedom: ', chisq_result1[2])"
   ]
  },
  {
   "cell_type": "code",
   "execution_count": 41,
   "metadata": {},
   "outputs": [
    {
     "name": "stdout",
     "output_type": "stream",
     "text": [
      "Chi-Square Test value:  20776.077464773058\n",
      "p-value:  0.0\n",
      "Degree of Freedom:  462\n"
     ]
    }
   ],
   "source": [
    "chisq_result2 = chisq_of_df_cols(transportation_selected, 'Dropoff Community Area', 'weekday')\n",
    "print('Chi-Square Test value: ', chisq_result2[0])\n",
    "print('p-value: ', chisq_result2[1])\n",
    "print('Degree of Freedom: ', chisq_result2[2])"
   ]
  },
  {
   "cell_type": "code",
   "execution_count": 42,
   "metadata": {},
   "outputs": [
    {
     "data": {
      "text/html": [
       "<div>\n",
       "<style scoped>\n",
       "    .dataframe tbody tr th:only-of-type {\n",
       "        vertical-align: middle;\n",
       "    }\n",
       "\n",
       "    .dataframe tbody tr th {\n",
       "        vertical-align: top;\n",
       "    }\n",
       "\n",
       "    .dataframe thead th {\n",
       "        text-align: right;\n",
       "    }\n",
       "</style>\n",
       "<table border=\"1\" class=\"dataframe\">\n",
       "  <thead>\n",
       "    <tr style=\"text-align: right;\">\n",
       "      <th></th>\n",
       "      <th>Shared Trip Authorized</th>\n",
       "      <th>Pickup Community Area_0.0</th>\n",
       "      <th>Pickup Community Area_1.0</th>\n",
       "      <th>Pickup Community Area_2.0</th>\n",
       "      <th>Pickup Community Area_3.0</th>\n",
       "      <th>Pickup Community Area_4.0</th>\n",
       "      <th>Pickup Community Area_5.0</th>\n",
       "      <th>Pickup Community Area_6.0</th>\n",
       "      <th>Pickup Community Area_7.0</th>\n",
       "      <th>Pickup Community Area_8.0</th>\n",
       "      <th>...</th>\n",
       "      <th>Dropoff Community Area_75.0</th>\n",
       "      <th>Dropoff Community Area_76.0</th>\n",
       "      <th>Dropoff Community Area_77.0</th>\n",
       "      <th>weekday_Friday</th>\n",
       "      <th>weekday_Monday</th>\n",
       "      <th>weekday_Saturday</th>\n",
       "      <th>weekday_Sunday</th>\n",
       "      <th>weekday_Thursday</th>\n",
       "      <th>weekday_Tuesday</th>\n",
       "      <th>weekday_Wednesday</th>\n",
       "    </tr>\n",
       "    <tr>\n",
       "      <th>Trip Start Timestamp</th>\n",
       "      <th></th>\n",
       "      <th></th>\n",
       "      <th></th>\n",
       "      <th></th>\n",
       "      <th></th>\n",
       "      <th></th>\n",
       "      <th></th>\n",
       "      <th></th>\n",
       "      <th></th>\n",
       "      <th></th>\n",
       "      <th></th>\n",
       "      <th></th>\n",
       "      <th></th>\n",
       "      <th></th>\n",
       "      <th></th>\n",
       "      <th></th>\n",
       "      <th></th>\n",
       "      <th></th>\n",
       "      <th></th>\n",
       "      <th></th>\n",
       "      <th></th>\n",
       "    </tr>\n",
       "  </thead>\n",
       "  <tbody>\n",
       "    <tr>\n",
       "      <th>2018-11-01 08:45:00</th>\n",
       "      <td>False</td>\n",
       "      <td>1</td>\n",
       "      <td>0</td>\n",
       "      <td>0</td>\n",
       "      <td>0</td>\n",
       "      <td>0</td>\n",
       "      <td>0</td>\n",
       "      <td>0</td>\n",
       "      <td>0</td>\n",
       "      <td>0</td>\n",
       "      <td>...</td>\n",
       "      <td>0</td>\n",
       "      <td>0</td>\n",
       "      <td>0</td>\n",
       "      <td>0</td>\n",
       "      <td>0</td>\n",
       "      <td>0</td>\n",
       "      <td>0</td>\n",
       "      <td>1</td>\n",
       "      <td>0</td>\n",
       "      <td>0</td>\n",
       "    </tr>\n",
       "    <tr>\n",
       "      <th>2018-11-01 02:00:00</th>\n",
       "      <td>False</td>\n",
       "      <td>0</td>\n",
       "      <td>0</td>\n",
       "      <td>0</td>\n",
       "      <td>0</td>\n",
       "      <td>0</td>\n",
       "      <td>0</td>\n",
       "      <td>0</td>\n",
       "      <td>0</td>\n",
       "      <td>0</td>\n",
       "      <td>...</td>\n",
       "      <td>0</td>\n",
       "      <td>0</td>\n",
       "      <td>0</td>\n",
       "      <td>0</td>\n",
       "      <td>0</td>\n",
       "      <td>0</td>\n",
       "      <td>0</td>\n",
       "      <td>1</td>\n",
       "      <td>0</td>\n",
       "      <td>0</td>\n",
       "    </tr>\n",
       "    <tr>\n",
       "      <th>2018-11-01 20:15:00</th>\n",
       "      <td>False</td>\n",
       "      <td>0</td>\n",
       "      <td>0</td>\n",
       "      <td>0</td>\n",
       "      <td>0</td>\n",
       "      <td>0</td>\n",
       "      <td>0</td>\n",
       "      <td>0</td>\n",
       "      <td>0</td>\n",
       "      <td>1</td>\n",
       "      <td>...</td>\n",
       "      <td>0</td>\n",
       "      <td>0</td>\n",
       "      <td>0</td>\n",
       "      <td>0</td>\n",
       "      <td>0</td>\n",
       "      <td>0</td>\n",
       "      <td>0</td>\n",
       "      <td>1</td>\n",
       "      <td>0</td>\n",
       "      <td>0</td>\n",
       "    </tr>\n",
       "    <tr>\n",
       "      <th>2018-11-01 03:45:00</th>\n",
       "      <td>True</td>\n",
       "      <td>0</td>\n",
       "      <td>0</td>\n",
       "      <td>0</td>\n",
       "      <td>0</td>\n",
       "      <td>0</td>\n",
       "      <td>0</td>\n",
       "      <td>0</td>\n",
       "      <td>0</td>\n",
       "      <td>0</td>\n",
       "      <td>...</td>\n",
       "      <td>0</td>\n",
       "      <td>0</td>\n",
       "      <td>0</td>\n",
       "      <td>0</td>\n",
       "      <td>0</td>\n",
       "      <td>0</td>\n",
       "      <td>0</td>\n",
       "      <td>1</td>\n",
       "      <td>0</td>\n",
       "      <td>0</td>\n",
       "    </tr>\n",
       "    <tr>\n",
       "      <th>2018-11-01 17:00:00</th>\n",
       "      <td>False</td>\n",
       "      <td>1</td>\n",
       "      <td>0</td>\n",
       "      <td>0</td>\n",
       "      <td>0</td>\n",
       "      <td>0</td>\n",
       "      <td>0</td>\n",
       "      <td>0</td>\n",
       "      <td>0</td>\n",
       "      <td>0</td>\n",
       "      <td>...</td>\n",
       "      <td>0</td>\n",
       "      <td>0</td>\n",
       "      <td>0</td>\n",
       "      <td>0</td>\n",
       "      <td>0</td>\n",
       "      <td>0</td>\n",
       "      <td>0</td>\n",
       "      <td>1</td>\n",
       "      <td>0</td>\n",
       "      <td>0</td>\n",
       "    </tr>\n",
       "  </tbody>\n",
       "</table>\n",
       "<p>5 rows × 164 columns</p>\n",
       "</div>"
      ],
      "text/plain": [
       "                      Shared Trip Authorized  Pickup Community Area_0.0  \\\n",
       "Trip Start Timestamp                                                      \n",
       "2018-11-01 08:45:00                    False                          1   \n",
       "2018-11-01 02:00:00                    False                          0   \n",
       "2018-11-01 20:15:00                    False                          0   \n",
       "2018-11-01 03:45:00                     True                          0   \n",
       "2018-11-01 17:00:00                    False                          1   \n",
       "\n",
       "                      Pickup Community Area_1.0  Pickup Community Area_2.0  \\\n",
       "Trip Start Timestamp                                                         \n",
       "2018-11-01 08:45:00                           0                          0   \n",
       "2018-11-01 02:00:00                           0                          0   \n",
       "2018-11-01 20:15:00                           0                          0   \n",
       "2018-11-01 03:45:00                           0                          0   \n",
       "2018-11-01 17:00:00                           0                          0   \n",
       "\n",
       "                      Pickup Community Area_3.0  Pickup Community Area_4.0  \\\n",
       "Trip Start Timestamp                                                         \n",
       "2018-11-01 08:45:00                           0                          0   \n",
       "2018-11-01 02:00:00                           0                          0   \n",
       "2018-11-01 20:15:00                           0                          0   \n",
       "2018-11-01 03:45:00                           0                          0   \n",
       "2018-11-01 17:00:00                           0                          0   \n",
       "\n",
       "                      Pickup Community Area_5.0  Pickup Community Area_6.0  \\\n",
       "Trip Start Timestamp                                                         \n",
       "2018-11-01 08:45:00                           0                          0   \n",
       "2018-11-01 02:00:00                           0                          0   \n",
       "2018-11-01 20:15:00                           0                          0   \n",
       "2018-11-01 03:45:00                           0                          0   \n",
       "2018-11-01 17:00:00                           0                          0   \n",
       "\n",
       "                      Pickup Community Area_7.0  Pickup Community Area_8.0  \\\n",
       "Trip Start Timestamp                                                         \n",
       "2018-11-01 08:45:00                           0                          0   \n",
       "2018-11-01 02:00:00                           0                          0   \n",
       "2018-11-01 20:15:00                           0                          1   \n",
       "2018-11-01 03:45:00                           0                          0   \n",
       "2018-11-01 17:00:00                           0                          0   \n",
       "\n",
       "                            ...          Dropoff Community Area_75.0  \\\n",
       "Trip Start Timestamp        ...                                        \n",
       "2018-11-01 08:45:00         ...                                    0   \n",
       "2018-11-01 02:00:00         ...                                    0   \n",
       "2018-11-01 20:15:00         ...                                    0   \n",
       "2018-11-01 03:45:00         ...                                    0   \n",
       "2018-11-01 17:00:00         ...                                    0   \n",
       "\n",
       "                      Dropoff Community Area_76.0  \\\n",
       "Trip Start Timestamp                                \n",
       "2018-11-01 08:45:00                             0   \n",
       "2018-11-01 02:00:00                             0   \n",
       "2018-11-01 20:15:00                             0   \n",
       "2018-11-01 03:45:00                             0   \n",
       "2018-11-01 17:00:00                             0   \n",
       "\n",
       "                      Dropoff Community Area_77.0  weekday_Friday  \\\n",
       "Trip Start Timestamp                                                \n",
       "2018-11-01 08:45:00                             0               0   \n",
       "2018-11-01 02:00:00                             0               0   \n",
       "2018-11-01 20:15:00                             0               0   \n",
       "2018-11-01 03:45:00                             0               0   \n",
       "2018-11-01 17:00:00                             0               0   \n",
       "\n",
       "                      weekday_Monday  weekday_Saturday  weekday_Sunday  \\\n",
       "Trip Start Timestamp                                                     \n",
       "2018-11-01 08:45:00                0                 0               0   \n",
       "2018-11-01 02:00:00                0                 0               0   \n",
       "2018-11-01 20:15:00                0                 0               0   \n",
       "2018-11-01 03:45:00                0                 0               0   \n",
       "2018-11-01 17:00:00                0                 0               0   \n",
       "\n",
       "                      weekday_Thursday  weekday_Tuesday  weekday_Wednesday  \n",
       "Trip Start Timestamp                                                        \n",
       "2018-11-01 08:45:00                  1                0                  0  \n",
       "2018-11-01 02:00:00                  1                0                  0  \n",
       "2018-11-01 20:15:00                  1                0                  0  \n",
       "2018-11-01 03:45:00                  1                0                  0  \n",
       "2018-11-01 17:00:00                  1                0                  0  \n",
       "\n",
       "[5 rows x 164 columns]"
      ]
     },
     "execution_count": 42,
     "metadata": {},
     "output_type": "execute_result"
    }
   ],
   "source": [
    "dummy = pd.get_dummies(transportation_selected[['Pickup Community Area', 'Dropoff Community Area','Shared Trip Authorized','weekday' ]])\n",
    "dummy.head()"
   ]
  },
  {
   "cell_type": "code",
   "execution_count": 43,
   "metadata": {},
   "outputs": [
    {
     "data": {
      "text/html": [
       "<div>\n",
       "<style scoped>\n",
       "    .dataframe tbody tr th:only-of-type {\n",
       "        vertical-align: middle;\n",
       "    }\n",
       "\n",
       "    .dataframe tbody tr th {\n",
       "        vertical-align: top;\n",
       "    }\n",
       "\n",
       "    .dataframe thead th {\n",
       "        text-align: right;\n",
       "    }\n",
       "</style>\n",
       "<table border=\"1\" class=\"dataframe\">\n",
       "  <thead>\n",
       "    <tr style=\"text-align: right;\">\n",
       "      <th></th>\n",
       "      <th>Trip Start Timestamp</th>\n",
       "      <th>Trip End Timestamp</th>\n",
       "      <th>Trip_seconds</th>\n",
       "      <th>Trip_miles</th>\n",
       "      <th>Pickup Community Area</th>\n",
       "      <th>Dropoff Community Area</th>\n",
       "      <th>Fare</th>\n",
       "      <th>Shared Trip Authorized</th>\n",
       "      <th>Trips Pooled</th>\n",
       "      <th>weekday</th>\n",
       "      <th>...</th>\n",
       "      <th>Dropoff Community Area_75.0</th>\n",
       "      <th>Dropoff Community Area_76.0</th>\n",
       "      <th>Dropoff Community Area_77.0</th>\n",
       "      <th>weekday_Friday</th>\n",
       "      <th>weekday_Monday</th>\n",
       "      <th>weekday_Saturday</th>\n",
       "      <th>weekday_Sunday</th>\n",
       "      <th>weekday_Thursday</th>\n",
       "      <th>weekday_Tuesday</th>\n",
       "      <th>weekday_Wednesday</th>\n",
       "    </tr>\n",
       "    <tr>\n",
       "      <th>Trip Start Timestamp</th>\n",
       "      <th></th>\n",
       "      <th></th>\n",
       "      <th></th>\n",
       "      <th></th>\n",
       "      <th></th>\n",
       "      <th></th>\n",
       "      <th></th>\n",
       "      <th></th>\n",
       "      <th></th>\n",
       "      <th></th>\n",
       "      <th></th>\n",
       "      <th></th>\n",
       "      <th></th>\n",
       "      <th></th>\n",
       "      <th></th>\n",
       "      <th></th>\n",
       "      <th></th>\n",
       "      <th></th>\n",
       "      <th></th>\n",
       "      <th></th>\n",
       "      <th></th>\n",
       "    </tr>\n",
       "  </thead>\n",
       "  <tbody>\n",
       "    <tr>\n",
       "      <th>2018-11-01 08:45:00</th>\n",
       "      <td>2018-11-01 08:45:00</td>\n",
       "      <td>2018-11-01 09:30:00</td>\n",
       "      <td>3,140.00</td>\n",
       "      <td>38.50</td>\n",
       "      <td>0.00</td>\n",
       "      <td>56.00</td>\n",
       "      <td>47.50</td>\n",
       "      <td>False</td>\n",
       "      <td>1</td>\n",
       "      <td>Thursday</td>\n",
       "      <td>...</td>\n",
       "      <td>0</td>\n",
       "      <td>0</td>\n",
       "      <td>0</td>\n",
       "      <td>0</td>\n",
       "      <td>0</td>\n",
       "      <td>0</td>\n",
       "      <td>0</td>\n",
       "      <td>1</td>\n",
       "      <td>0</td>\n",
       "      <td>0</td>\n",
       "    </tr>\n",
       "    <tr>\n",
       "      <th>2018-11-01 02:00:00</th>\n",
       "      <td>2018-11-01 02:00:00</td>\n",
       "      <td>2018-11-01 02:15:00</td>\n",
       "      <td>1,031.00</td>\n",
       "      <td>5.30</td>\n",
       "      <td>70.00</td>\n",
       "      <td>0.00</td>\n",
       "      <td>10.00</td>\n",
       "      <td>False</td>\n",
       "      <td>1</td>\n",
       "      <td>Thursday</td>\n",
       "      <td>...</td>\n",
       "      <td>0</td>\n",
       "      <td>0</td>\n",
       "      <td>0</td>\n",
       "      <td>0</td>\n",
       "      <td>0</td>\n",
       "      <td>0</td>\n",
       "      <td>0</td>\n",
       "      <td>1</td>\n",
       "      <td>0</td>\n",
       "      <td>0</td>\n",
       "    </tr>\n",
       "    <tr>\n",
       "      <th>2018-11-01 20:15:00</th>\n",
       "      <td>2018-11-01 20:15:00</td>\n",
       "      <td>2018-11-01 21:15:00</td>\n",
       "      <td>4,125.00</td>\n",
       "      <td>49.90</td>\n",
       "      <td>8.00</td>\n",
       "      <td>0.00</td>\n",
       "      <td>62.50</td>\n",
       "      <td>False</td>\n",
       "      <td>1</td>\n",
       "      <td>Thursday</td>\n",
       "      <td>...</td>\n",
       "      <td>0</td>\n",
       "      <td>0</td>\n",
       "      <td>0</td>\n",
       "      <td>0</td>\n",
       "      <td>0</td>\n",
       "      <td>0</td>\n",
       "      <td>0</td>\n",
       "      <td>1</td>\n",
       "      <td>0</td>\n",
       "      <td>0</td>\n",
       "    </tr>\n",
       "    <tr>\n",
       "      <th>2018-11-01 03:45:00</th>\n",
       "      <td>2018-11-01 03:45:00</td>\n",
       "      <td>2018-11-01 04:15:00</td>\n",
       "      <td>1,229.00</td>\n",
       "      <td>11.70</td>\n",
       "      <td>22.00</td>\n",
       "      <td>0.00</td>\n",
       "      <td>7.50</td>\n",
       "      <td>True</td>\n",
       "      <td>3</td>\n",
       "      <td>Thursday</td>\n",
       "      <td>...</td>\n",
       "      <td>0</td>\n",
       "      <td>0</td>\n",
       "      <td>0</td>\n",
       "      <td>0</td>\n",
       "      <td>0</td>\n",
       "      <td>0</td>\n",
       "      <td>0</td>\n",
       "      <td>1</td>\n",
       "      <td>0</td>\n",
       "      <td>0</td>\n",
       "    </tr>\n",
       "    <tr>\n",
       "      <th>2018-11-01 17:00:00</th>\n",
       "      <td>2018-11-01 17:00:00</td>\n",
       "      <td>2018-11-01 18:00:00</td>\n",
       "      <td>3,383.00</td>\n",
       "      <td>12.30</td>\n",
       "      <td>0.00</td>\n",
       "      <td>32.00</td>\n",
       "      <td>27.50</td>\n",
       "      <td>False</td>\n",
       "      <td>1</td>\n",
       "      <td>Thursday</td>\n",
       "      <td>...</td>\n",
       "      <td>0</td>\n",
       "      <td>0</td>\n",
       "      <td>0</td>\n",
       "      <td>0</td>\n",
       "      <td>0</td>\n",
       "      <td>0</td>\n",
       "      <td>0</td>\n",
       "      <td>1</td>\n",
       "      <td>0</td>\n",
       "      <td>0</td>\n",
       "    </tr>\n",
       "  </tbody>\n",
       "</table>\n",
       "<p>5 rows × 174 columns</p>\n",
       "</div>"
      ],
      "text/plain": [
       "                     Trip Start Timestamp  Trip End Timestamp  Trip_seconds  \\\n",
       "Trip Start Timestamp                                                          \n",
       "2018-11-01 08:45:00   2018-11-01 08:45:00 2018-11-01 09:30:00      3,140.00   \n",
       "2018-11-01 02:00:00   2018-11-01 02:00:00 2018-11-01 02:15:00      1,031.00   \n",
       "2018-11-01 20:15:00   2018-11-01 20:15:00 2018-11-01 21:15:00      4,125.00   \n",
       "2018-11-01 03:45:00   2018-11-01 03:45:00 2018-11-01 04:15:00      1,229.00   \n",
       "2018-11-01 17:00:00   2018-11-01 17:00:00 2018-11-01 18:00:00      3,383.00   \n",
       "\n",
       "                      Trip_miles Pickup Community Area Dropoff Community Area  \\\n",
       "Trip Start Timestamp                                                            \n",
       "2018-11-01 08:45:00        38.50                  0.00                  56.00   \n",
       "2018-11-01 02:00:00         5.30                 70.00                   0.00   \n",
       "2018-11-01 20:15:00        49.90                  8.00                   0.00   \n",
       "2018-11-01 03:45:00        11.70                 22.00                   0.00   \n",
       "2018-11-01 17:00:00        12.30                  0.00                  32.00   \n",
       "\n",
       "                      Fare  Shared Trip Authorized  Trips Pooled   weekday  \\\n",
       "Trip Start Timestamp                                                         \n",
       "2018-11-01 08:45:00  47.50                   False             1  Thursday   \n",
       "2018-11-01 02:00:00  10.00                   False             1  Thursday   \n",
       "2018-11-01 20:15:00  62.50                   False             1  Thursday   \n",
       "2018-11-01 03:45:00   7.50                    True             3  Thursday   \n",
       "2018-11-01 17:00:00  27.50                   False             1  Thursday   \n",
       "\n",
       "                            ...          Dropoff Community Area_75.0  \\\n",
       "Trip Start Timestamp        ...                                        \n",
       "2018-11-01 08:45:00         ...                                    0   \n",
       "2018-11-01 02:00:00         ...                                    0   \n",
       "2018-11-01 20:15:00         ...                                    0   \n",
       "2018-11-01 03:45:00         ...                                    0   \n",
       "2018-11-01 17:00:00         ...                                    0   \n",
       "\n",
       "                      Dropoff Community Area_76.0  \\\n",
       "Trip Start Timestamp                                \n",
       "2018-11-01 08:45:00                             0   \n",
       "2018-11-01 02:00:00                             0   \n",
       "2018-11-01 20:15:00                             0   \n",
       "2018-11-01 03:45:00                             0   \n",
       "2018-11-01 17:00:00                             0   \n",
       "\n",
       "                      Dropoff Community Area_77.0  weekday_Friday  \\\n",
       "Trip Start Timestamp                                                \n",
       "2018-11-01 08:45:00                             0               0   \n",
       "2018-11-01 02:00:00                             0               0   \n",
       "2018-11-01 20:15:00                             0               0   \n",
       "2018-11-01 03:45:00                             0               0   \n",
       "2018-11-01 17:00:00                             0               0   \n",
       "\n",
       "                      weekday_Monday  weekday_Saturday  weekday_Sunday  \\\n",
       "Trip Start Timestamp                                                     \n",
       "2018-11-01 08:45:00                0                 0               0   \n",
       "2018-11-01 02:00:00                0                 0               0   \n",
       "2018-11-01 20:15:00                0                 0               0   \n",
       "2018-11-01 03:45:00                0                 0               0   \n",
       "2018-11-01 17:00:00                0                 0               0   \n",
       "\n",
       "                      weekday_Thursday  weekday_Tuesday  weekday_Wednesday  \n",
       "Trip Start Timestamp                                                        \n",
       "2018-11-01 08:45:00                  1                0                  0  \n",
       "2018-11-01 02:00:00                  1                0                  0  \n",
       "2018-11-01 20:15:00                  1                0                  0  \n",
       "2018-11-01 03:45:00                  1                0                  0  \n",
       "2018-11-01 17:00:00                  1                0                  0  \n",
       "\n",
       "[5 rows x 174 columns]"
      ]
     },
     "execution_count": 43,
     "metadata": {},
     "output_type": "execute_result"
    }
   ],
   "source": [
    "transportation_dummy = pd.concat([transportation_selected, dummy], axis =1)\n",
    "transportation_dummy.head()"
   ]
  },
  {
   "cell_type": "code",
   "execution_count": 44,
   "metadata": {},
   "outputs": [],
   "source": [
    "from sklearn.model_selection import train_test_split\n",
    "X = transportation_dummy[transportation_dummy.columns[~transportation_dummy.columns.isin(['Fare','Trip Start Timestamp', 'Trip End Timestamp','Pickup Community Area',\n",
    "                                                                                         'Dropoff Community Area','Shared Trip Authorized','weekday' ])]]\n",
    "y = transportation_dummy.Fare\n",
    "# Split X and y into X_\n",
    "X_train, X_test, y_train, y_test = train_test_split(X, y, test_size=0.3, random_state=21)"
   ]
  },
  {
   "cell_type": "code",
   "execution_count": 45,
   "metadata": {},
   "outputs": [
    {
     "name": "stdout",
     "output_type": "stream",
     "text": [
      "                            OLS Regression Results                            \n",
      "==============================================================================\n",
      "Dep. Variable:                   Fare   R-squared:                       0.853\n",
      "Model:                            OLS   Adj. R-squared:                  0.853\n",
      "Method:                 Least Squares   F-statistic:                 3.550e+04\n",
      "Date:                Sat, 01 Jun 2019   Prob (F-statistic):               0.00\n",
      "Time:                        17:53:53   Log-Likelihood:            -2.7674e+06\n",
      "No. Observations:             1000000   AIC:                         5.535e+06\n",
      "Df Residuals:                  999836   BIC:                         5.537e+06\n",
      "Df Model:                         163                                         \n",
      "Covariance Type:            nonrobust                                         \n",
      "===============================================================================================\n",
      "                                  coef    std err          t      P>|t|      [0.025      0.975]\n",
      "-----------------------------------------------------------------------------------------------\n",
      "Trip_seconds                    0.0033   8.75e-06    382.208      0.000       0.003       0.003\n",
      "Trip_miles                      0.9363      0.001    839.870      0.000       0.934       0.938\n",
      "Trips Pooled                   -2.8955      0.006   -498.818      0.000      -2.907      -2.884\n",
      "Pickup Community Area_0.0       0.3600      0.019     19.151      0.000       0.323       0.397\n",
      "Pickup Community Area_1.0       0.3987      0.040      9.990      0.000       0.320       0.477\n",
      "Pickup Community Area_2.0       0.2825      0.048      5.934      0.000       0.189       0.376\n",
      "Pickup Community Area_3.0       0.4673      0.029     16.317      0.000       0.411       0.523\n",
      "Pickup Community Area_4.0       0.6507      0.041     15.911      0.000       0.571       0.731\n",
      "Pickup Community Area_5.0       0.8062      0.038     21.235      0.000       0.732       0.881\n",
      "Pickup Community Area_6.0       0.7401      0.019     38.974      0.000       0.703       0.777\n",
      "Pickup Community Area_7.0       0.7828      0.020     39.400      0.000       0.744       0.822\n",
      "Pickup Community Area_8.0       0.8638      0.015     58.325      0.000       0.835       0.893\n",
      "Pickup Community Area_9.0       0.5209      0.121      4.309      0.000       0.284       0.758\n",
      "Pickup Community Area_10.0      0.2663      0.077      3.463      0.001       0.116       0.417\n",
      "Pickup Community Area_11.0      0.3728      0.082      4.545      0.000       0.212       0.534\n",
      "Pickup Community Area_12.0      0.4651      0.117      3.975      0.000       0.236       0.694\n",
      "Pickup Community Area_13.0      0.1858      0.089      2.091      0.037       0.012       0.360\n",
      "Pickup Community Area_14.0      0.4874      0.055      8.839      0.000       0.379       0.595\n",
      "Pickup Community Area_15.0      0.4110      0.056      7.326      0.000       0.301       0.521\n",
      "Pickup Community Area_16.0      0.4073      0.044      9.219      0.000       0.321       0.494\n",
      "Pickup Community Area_17.0      0.3635      0.083      4.393      0.000       0.201       0.526\n",
      "Pickup Community Area_18.0      0.3229      0.131      2.460      0.014       0.066       0.580\n",
      "Pickup Community Area_19.0      0.4324      0.054      8.061      0.000       0.327       0.538\n",
      "Pickup Community Area_20.0      0.5593      0.085      6.549      0.000       0.392       0.727\n",
      "Pickup Community Area_21.0      0.3673      0.040      9.212      0.000       0.289       0.445\n",
      "Pickup Community Area_22.0      0.6054      0.023     25.944      0.000       0.560       0.651\n",
      "Pickup Community Area_23.0      0.6395      0.049     12.959      0.000       0.543       0.736\n",
      "Pickup Community Area_24.0      0.6894      0.019     36.041      0.000       0.652       0.727\n",
      "Pickup Community Area_25.0      0.5165      0.045     11.365      0.000       0.427       0.606\n",
      "Pickup Community Area_26.0      0.5216      0.091      5.743      0.000       0.344       0.700\n",
      "Pickup Community Area_27.0      0.5463      0.071      7.644      0.000       0.406       0.686\n",
      "Pickup Community Area_28.0      0.6829      0.017     40.001      0.000       0.649       0.716\n",
      "Pickup Community Area_29.0      0.5477      0.058      9.369      0.000       0.433       0.662\n",
      "Pickup Community Area_30.0      0.2437      0.057      4.266      0.000       0.132       0.356\n",
      "Pickup Community Area_31.0      0.4417      0.038     11.648      0.000       0.367       0.516\n",
      "Pickup Community Area_32.0      0.8243      0.017     48.649      0.000       0.791       0.857\n",
      "Pickup Community Area_33.0      0.8671      0.029     29.572      0.000       0.810       0.925\n",
      "Pickup Community Area_34.0      0.5995      0.059     10.183      0.000       0.484       0.715\n",
      "Pickup Community Area_35.0      0.1266      0.053      2.383      0.017       0.022       0.231\n",
      "Pickup Community Area_36.0      0.1345      0.124      1.086      0.277      -0.108       0.377\n",
      "Pickup Community Area_37.0      0.3687      0.150      2.455      0.014       0.074       0.663\n",
      "Pickup Community Area_38.0      0.1623      0.059      2.742      0.006       0.046       0.278\n",
      "Pickup Community Area_39.0      0.0550      0.061      0.895      0.371      -0.065       0.175\n",
      "Pickup Community Area_40.0      0.0108      0.086      0.125      0.900      -0.158       0.180\n",
      "Pickup Community Area_41.0      0.2439      0.037      6.680      0.000       0.172       0.315\n",
      "Pickup Community Area_42.0      0.3149      0.062      5.119      0.000       0.194       0.435\n",
      "Pickup Community Area_43.0      0.1393      0.055      2.555      0.011       0.032       0.246\n",
      "Pickup Community Area_44.0      0.3282      0.062      5.325      0.000       0.207       0.449\n",
      "Pickup Community Area_45.0      0.0903      0.135      0.670      0.503      -0.174       0.355\n",
      "Pickup Community Area_46.0      0.1369      0.093      1.470      0.141      -0.046       0.319\n",
      "Pickup Community Area_47.0      0.7613      0.243      3.129      0.002       0.284       1.238\n",
      "Pickup Community Area_48.0      0.1169      0.128      0.916      0.359      -0.133       0.367\n",
      "Pickup Community Area_49.0      0.0832      0.067      1.244      0.214      -0.048       0.214\n",
      "Pickup Community Area_50.0      0.0402      0.142      0.283      0.777      -0.238       0.319\n",
      "Pickup Community Area_51.0     -0.0823      0.130     -0.631      0.528      -0.338       0.173\n",
      "Pickup Community Area_52.0     -0.1259      0.191     -0.660      0.510      -0.500       0.248\n",
      "Pickup Community Area_53.0      0.3420      0.099      3.438      0.001       0.147       0.537\n",
      "Pickup Community Area_54.0     -0.0452      0.184     -0.246      0.806      -0.406       0.316\n",
      "Pickup Community Area_55.0     -0.2934      0.255     -1.153      0.249      -0.792       0.206\n",
      "Pickup Community Area_56.0      1.4099      0.037     38.467      0.000       1.338       1.482\n",
      "Pickup Community Area_57.0      0.1169      0.101      1.156      0.248      -0.081       0.315\n",
      "Pickup Community Area_58.0      0.2595      0.070      3.726      0.000       0.123       0.396\n",
      "Pickup Community Area_59.0      0.2575      0.095      2.719      0.007       0.072       0.443\n",
      "Pickup Community Area_60.0      0.3197      0.058      5.504      0.000       0.206       0.434\n",
      "Pickup Community Area_61.0      0.2636      0.067      3.963      0.000       0.133       0.394\n",
      "Pickup Community Area_62.0      0.1883      0.115      1.634      0.102      -0.038       0.414\n",
      "Pickup Community Area_63.0      0.3106      0.086      3.632      0.000       0.143       0.478\n",
      "Pickup Community Area_64.0      0.3726      0.112      3.323      0.001       0.153       0.592\n",
      "Pickup Community Area_65.0      0.1750      0.089      1.976      0.048       0.001       0.349\n",
      "Pickup Community Area_66.0      0.3853      0.068      5.694      0.000       0.253       0.518\n",
      "Pickup Community Area_67.0      0.3856      0.075      5.128      0.000       0.238       0.533\n",
      "Pickup Community Area_68.0      0.3096      0.074      4.211      0.000       0.165       0.454\n",
      "Pickup Community Area_69.0      0.3488      0.065      5.338      0.000       0.221       0.477\n",
      "Pickup Community Area_70.0      0.1297      0.084      1.538      0.124      -0.036       0.295\n",
      "Pickup Community Area_71.0      0.2450      0.064      3.853      0.000       0.120       0.370\n",
      "Pickup Community Area_72.0      0.4390      0.103      4.270      0.000       0.237       0.640\n",
      "Pickup Community Area_73.0      0.0595      0.089      0.672      0.501      -0.114       0.233\n",
      "Pickup Community Area_74.0      0.5235      0.135      3.885      0.000       0.259       0.788\n",
      "Pickup Community Area_75.0      0.2518      0.101      2.495      0.013       0.054       0.450\n",
      "Pickup Community Area_76.0      2.0683      0.025     84.260      0.000       2.020       2.116\n",
      "Pickup Community Area_77.0      0.4923      0.036     13.692      0.000       0.422       0.563\n",
      "Dropoff Community Area_0.0      0.4334      0.019     23.386      0.000       0.397       0.470\n",
      "Dropoff Community Area_1.0      0.2670      0.040      6.694      0.000       0.189       0.345\n",
      "Dropoff Community Area_2.0      0.2716      0.049      5.539      0.000       0.176       0.368\n",
      "Dropoff Community Area_3.0      0.3422      0.029     11.809      0.000       0.285       0.399\n",
      "Dropoff Community Area_4.0      0.5101      0.040     12.665      0.000       0.431       0.589\n",
      "Dropoff Community Area_5.0      0.4712      0.038     12.395      0.000       0.397       0.546\n",
      "Dropoff Community Area_6.0      0.4552      0.019     23.647      0.000       0.417       0.493\n",
      "Dropoff Community Area_7.0      0.5589      0.020     27.469      0.000       0.519       0.599\n",
      "Dropoff Community Area_8.0      0.6394      0.015     42.370      0.000       0.610       0.669\n",
      "Dropoff Community Area_9.0      0.6050      0.122      4.966      0.000       0.366       0.844\n",
      "Dropoff Community Area_10.0     0.3177      0.077      4.108      0.000       0.166       0.469\n",
      "Dropoff Community Area_11.0     0.3083      0.087      3.548      0.000       0.138       0.479\n",
      "Dropoff Community Area_12.0     0.4539      0.113      4.009      0.000       0.232       0.676\n",
      "Dropoff Community Area_13.0     0.3382      0.086      3.949      0.000       0.170       0.506\n",
      "Dropoff Community Area_14.0     0.3142      0.055      5.737      0.000       0.207       0.422\n",
      "Dropoff Community Area_15.0     0.3042      0.057      5.331      0.000       0.192       0.416\n",
      "Dropoff Community Area_16.0     0.3375      0.044      7.650      0.000       0.251       0.424\n",
      "Dropoff Community Area_17.0     0.2752      0.081      3.409      0.001       0.117       0.433\n",
      "Dropoff Community Area_18.0     0.3437      0.135      2.553      0.011       0.080       0.608\n",
      "Dropoff Community Area_19.0     0.3601      0.055      6.498      0.000       0.252       0.469\n",
      "Dropoff Community Area_20.0     0.4068      0.090      4.538      0.000       0.231       0.582\n",
      "Dropoff Community Area_21.0     0.3032      0.041      7.449      0.000       0.223       0.383\n",
      "Dropoff Community Area_22.0     0.4401      0.024     18.553      0.000       0.394       0.487\n",
      "Dropoff Community Area_23.0     0.4623      0.051      9.026      0.000       0.362       0.563\n",
      "Dropoff Community Area_24.0     0.4257      0.020     21.630      0.000       0.387       0.464\n",
      "Dropoff Community Area_25.0     0.3629      0.046      7.916      0.000       0.273       0.453\n",
      "Dropoff Community Area_26.0     0.3948      0.090      4.371      0.000       0.218       0.572\n",
      "Dropoff Community Area_27.0     0.3172      0.073      4.342      0.000       0.174       0.460\n",
      "Dropoff Community Area_28.0     0.4986      0.017     28.980      0.000       0.465       0.532\n",
      "Dropoff Community Area_29.0     0.3309      0.058      5.674      0.000       0.217       0.445\n",
      "Dropoff Community Area_30.0     0.2416      0.058      4.174      0.000       0.128       0.355\n",
      "Dropoff Community Area_31.0     0.2788      0.039      7.139      0.000       0.202       0.355\n",
      "Dropoff Community Area_32.0     0.6135      0.017     36.618      0.000       0.581       0.646\n",
      "Dropoff Community Area_33.0     0.7341      0.029     25.133      0.000       0.677       0.791\n",
      "Dropoff Community Area_34.0     0.4418      0.060      7.380      0.000       0.324       0.559\n",
      "Dropoff Community Area_35.0    -0.0984      0.055     -1.800      0.072      -0.206       0.009\n",
      "Dropoff Community Area_36.0    -0.1112      0.129     -0.859      0.390      -0.365       0.143\n",
      "Dropoff Community Area_37.0     0.5079      0.160      3.176      0.001       0.194       0.821\n",
      "Dropoff Community Area_38.0     0.1567      0.061      2.548      0.011       0.036       0.277\n",
      "Dropoff Community Area_39.0     0.0316      0.065      0.488      0.626      -0.095       0.158\n",
      "Dropoff Community Area_40.0     0.0220      0.090      0.244      0.807      -0.154       0.198\n",
      "Dropoff Community Area_41.0     0.1788      0.037      4.864      0.000       0.107       0.251\n",
      "Dropoff Community Area_42.0     0.1841      0.065      2.846      0.004       0.057       0.311\n",
      "Dropoff Community Area_43.0     0.0928      0.056      1.671      0.095      -0.016       0.202\n",
      "Dropoff Community Area_44.0     0.5461      0.063      8.673      0.000       0.423       0.670\n",
      "Dropoff Community Area_45.0     0.3466      0.144      2.409      0.016       0.065       0.629\n",
      "Dropoff Community Area_46.0     0.2836      0.096      2.969      0.003       0.096       0.471\n",
      "Dropoff Community Area_47.0     0.3760      0.238      1.577      0.115      -0.091       0.843\n",
      "Dropoff Community Area_48.0     0.1635      0.130      1.256      0.209      -0.092       0.419\n",
      "Dropoff Community Area_49.0     0.4696      0.069      6.772      0.000       0.334       0.606\n",
      "Dropoff Community Area_50.0     0.2346      0.139      1.688      0.091      -0.038       0.507\n",
      "Dropoff Community Area_51.0     0.2959      0.127      2.331      0.020       0.047       0.545\n",
      "Dropoff Community Area_52.0     0.7502      0.201      3.724      0.000       0.355       1.145\n",
      "Dropoff Community Area_53.0     0.2988      0.099      3.016      0.003       0.105       0.493\n",
      "Dropoff Community Area_54.0     0.2439      0.183      1.332      0.183      -0.115       0.603\n",
      "Dropoff Community Area_55.0     0.2670      0.241      1.109      0.267      -0.205       0.739\n",
      "Dropoff Community Area_56.0     1.9159      0.034     55.864      0.000       1.849       1.983\n",
      "Dropoff Community Area_57.0     0.2884      0.100      2.875      0.004       0.092       0.485\n",
      "Dropoff Community Area_58.0     0.1075      0.073      1.474      0.140      -0.035       0.250\n",
      "Dropoff Community Area_59.0     0.3233      0.095      3.401      0.001       0.137       0.510\n",
      "Dropoff Community Area_60.0     0.1116      0.060      1.854      0.064      -0.006       0.229\n",
      "Dropoff Community Area_61.0     0.2803      0.066      4.236      0.000       0.151       0.410\n",
      "Dropoff Community Area_62.0     0.2921      0.124      2.353      0.019       0.049       0.535\n",
      "Dropoff Community Area_63.0     0.3411      0.088      3.897      0.000       0.170       0.513\n",
      "Dropoff Community Area_64.0     0.3170      0.101      3.146      0.002       0.119       0.514\n",
      "Dropoff Community Area_65.0     0.3451      0.090      3.816      0.000       0.168       0.522\n",
      "Dropoff Community Area_66.0     0.3462      0.071      4.890      0.000       0.207       0.485\n",
      "Dropoff Community Area_67.0     0.4569      0.077      5.908      0.000       0.305       0.608\n",
      "Dropoff Community Area_68.0     0.4565      0.076      6.031      0.000       0.308       0.605\n",
      "Dropoff Community Area_69.0     0.4487      0.065      6.863      0.000       0.321       0.577\n",
      "Dropoff Community Area_70.0     0.1321      0.087      1.524      0.127      -0.038       0.302\n",
      "Dropoff Community Area_71.0     0.4330      0.066      6.581      0.000       0.304       0.562\n",
      "Dropoff Community Area_72.0     0.4036      0.108      3.730      0.000       0.192       0.616\n",
      "Dropoff Community Area_73.0     0.2489      0.091      2.733      0.006       0.070       0.427\n",
      "Dropoff Community Area_74.0     0.6569      0.136      4.833      0.000       0.390       0.923\n",
      "Dropoff Community Area_75.0     0.4005      0.099      4.040      0.000       0.206       0.595\n",
      "Dropoff Community Area_76.0     2.4364      0.023    106.723      0.000       2.392       2.481\n",
      "Dropoff Community Area_77.0     0.3182      0.036      8.795      0.000       0.247       0.389\n",
      "weekday_Friday                  4.4881      0.016    284.669      0.000       4.457       4.519\n",
      "weekday_Monday                  4.2834      0.017    251.552      0.000       4.250       4.317\n",
      "weekday_Saturday                4.4902      0.015    291.195      0.000       4.460       4.520\n",
      "weekday_Sunday                  4.3549      0.016    274.201      0.000       4.324       4.386\n",
      "weekday_Thursday                4.3903      0.016    270.438      0.000       4.359       4.422\n",
      "weekday_Tuesday                 4.2265      0.017    246.368      0.000       4.193       4.260\n",
      "weekday_Wednesday               4.2263      0.017    251.457      0.000       4.193       4.259\n",
      "==============================================================================\n",
      "Omnibus:                  1382892.300   Durbin-Watson:                   2.001\n",
      "Prob(Omnibus):                  0.000   Jarque-Bera (JB):       4273065621.894\n",
      "Skew:                           7.155   Prob(JB):                         0.00\n",
      "Kurtosis:                     322.920   Cond. No.                     1.53e+18\n",
      "==============================================================================\n",
      "\n",
      "Warnings:\n",
      "[1] Standard Errors assume that the covariance matrix of the errors is correctly specified.\n",
      "[2] The smallest eigenvalue is 7.77e-25. This might indicate that there are\n",
      "strong multicollinearity problems or that the design matrix is singular.\n"
     ]
    }
   ],
   "source": [
    "import statsmodels.api as sm\n",
    "est = sm.OLS(y, X)\n",
    "est2 = est.fit()\n",
    "print(est2.summary())"
   ]
  },
  {
   "cell_type": "code",
   "execution_count": 56,
   "metadata": {},
   "outputs": [],
   "source": [
    "X = X[X.columns[~X.columns.isin(['Pickup Community Area_36.0', 'Pickup Community Area_39.0', 'Pickup Community Area_40.0',\n",
    "                                 'Pickup Community Area_45.0','Pickup Community Area_46.0','Pickup Community Area_48.0',\n",
    "                                 'Pickup Community Area_49.0','Pickup Community Area_50.0','Pickup Community Area_51.0',\n",
    "                                 'Pickup Community Area_52.0', 'Pickup Community Area_54.0','Pickup Community Area_55.0',\n",
    "                                 'Pickup Community Area_57.0','Pickup Community Area_62.0','Pickup Community Area_65.0',\n",
    "                                 'Pickup Community Area_70.0','Pickup Community Area_73.0','Dropoff Community Area_36.0',\n",
    "                                 'Dropoff Community Area_39.0','Dropoff Community Area_40.0','Dropoff Community Area_43.0',\n",
    "                                 'Dropoff Community Area_47.0','Dropoff Community Area_48.0','Dropoff Community Area_50.0',\n",
    "                                 'Dropoff Community Area_54.0','Dropoff Community Area_55.0','Dropoff Community Area_58.0',\n",
    "                                 'Dropoff Community Area_60.0','Dropoff Community Area_70.0'])]]\n",
    "X['Min_Miles Interaction'] = X['Trip_seconds']*X['Trip_miles']\n",
    "# # Split X and y into X_\n",
    "X_train, X_test, y_train, y_test = train_test_split(X, y, test_size=0.3, random_state=21)\n",
    "                                                                                        "
   ]
  },
  {
   "cell_type": "code",
   "execution_count": 62,
   "metadata": {},
   "outputs": [
    {
     "name": "stdout",
     "output_type": "stream",
     "text": [
      "                            OLS Regression Results                            \n",
      "==============================================================================\n",
      "Dep. Variable:                   Fare   R-squared:                       0.853\n",
      "Model:                            OLS   Adj. R-squared:                  0.853\n",
      "Method:                 Least Squares   F-statistic:                 4.233e+04\n",
      "Date:                Sat, 01 Jun 2019   Prob (F-statistic):               0.00\n",
      "Time:                        20:37:46   Log-Likelihood:            -2.7664e+06\n",
      "No. Observations:             1000000   AIC:                         5.533e+06\n",
      "Df Residuals:                  999862   BIC:                         5.535e+06\n",
      "Df Model:                         137                                         \n",
      "Covariance Type:            nonrobust                                         \n",
      "===============================================================================================\n",
      "                                  coef    std err          t      P>|t|      [0.025      0.975]\n",
      "-----------------------------------------------------------------------------------------------\n",
      "Trip_seconds                    0.0033   8.79e-06    376.099      0.000       0.003       0.003\n",
      "Trip_miles                      0.9038      0.001    679.562      0.000       0.901       0.906\n",
      "Trips Pooled                   -2.8854      0.006   -497.275      0.000      -2.897      -2.874\n",
      "Pickup Community Area_0.0       0.3336      0.030     11.014      0.000       0.274       0.393\n",
      "Pickup Community Area_1.0       0.2887      0.047      6.149      0.000       0.197       0.381\n",
      "Pickup Community Area_2.0       0.1643      0.054      3.052      0.002       0.059       0.270\n",
      "Pickup Community Area_3.0       0.3776      0.038     10.034      0.000       0.304       0.451\n",
      "Pickup Community Area_4.0       0.5532      0.048     11.552      0.000       0.459       0.647\n",
      "Pickup Community Area_5.0       0.7103      0.045     15.673      0.000       0.621       0.799\n",
      "Pickup Community Area_6.0       0.6418      0.031     20.877      0.000       0.582       0.702\n",
      "Pickup Community Area_7.0       0.6777      0.031     21.670      0.000       0.616       0.739\n",
      "Pickup Community Area_8.0       0.7560      0.028     26.832      0.000       0.701       0.811\n",
      "Pickup Community Area_9.0       0.3974      0.125      3.189      0.001       0.153       0.642\n",
      "Pickup Community Area_10.0      0.1477      0.081      1.813      0.070      -0.012       0.307\n",
      "Pickup Community Area_11.0      0.2732      0.086      3.160      0.002       0.104       0.443\n",
      "Pickup Community Area_12.0      0.3828      0.121      3.170      0.002       0.146       0.619\n",
      "Pickup Community Area_13.0      0.0831      0.093      0.893      0.372      -0.099       0.265\n",
      "Pickup Community Area_14.0      0.3931      0.061      6.467      0.000       0.274       0.512\n",
      "Pickup Community Area_15.0      0.3155      0.062      5.112      0.000       0.195       0.436\n",
      "Pickup Community Area_16.0      0.3190      0.051      6.278      0.000       0.219       0.419\n",
      "Pickup Community Area_17.0      0.2507      0.087      2.877      0.004       0.080       0.421\n",
      "Pickup Community Area_18.0      0.2037      0.135      1.510      0.131      -0.061       0.468\n",
      "Pickup Community Area_19.0      0.3241      0.059      5.454      0.000       0.208       0.441\n",
      "Pickup Community Area_20.0      0.4656      0.090      5.193      0.000       0.290       0.641\n",
      "Pickup Community Area_21.0      0.2775      0.047      5.906      0.000       0.185       0.370\n",
      "Pickup Community Area_22.0      0.5090      0.034     15.107      0.000       0.443       0.575\n",
      "Pickup Community Area_23.0      0.5439      0.055      9.823      0.000       0.435       0.652\n",
      "Pickup Community Area_24.0      0.5861      0.031     19.040      0.000       0.526       0.646\n",
      "Pickup Community Area_25.0      0.4062      0.052      7.839      0.000       0.305       0.508\n",
      "Pickup Community Area_26.0      0.4193      0.095      4.420      0.000       0.233       0.605\n",
      "Pickup Community Area_27.0      0.4517      0.076      5.939      0.000       0.303       0.601\n",
      "Pickup Community Area_28.0      0.5803      0.029     19.755      0.000       0.523       0.638\n",
      "Pickup Community Area_29.0      0.4465      0.064      7.014      0.000       0.322       0.571\n",
      "Pickup Community Area_30.0      0.1376      0.062      2.213      0.027       0.016       0.260\n",
      "Pickup Community Area_31.0      0.3549      0.045      7.894      0.000       0.267       0.443\n",
      "Pickup Community Area_32.0      0.7214      0.029     24.640      0.000       0.664       0.779\n",
      "Pickup Community Area_33.0      0.7714      0.038     20.350      0.000       0.697       0.846\n",
      "Pickup Community Area_34.0      0.4855      0.064      7.606      0.000       0.360       0.611\n",
      "Pickup Community Area_35.0      0.0419      0.058      0.718      0.473      -0.072       0.156\n",
      "Pickup Community Area_37.0      0.1589      0.153      1.037      0.300      -0.141       0.459\n",
      "Pickup Community Area_38.0      0.0780      0.064      1.223      0.221      -0.047       0.203\n",
      "Pickup Community Area_41.0      0.1585      0.043      3.667      0.000       0.074       0.243\n",
      "Pickup Community Area_42.0      0.2229      0.066      3.383      0.001       0.094       0.352\n",
      "Pickup Community Area_43.0      0.0727      0.059      1.237      0.216      -0.042       0.188\n",
      "Pickup Community Area_44.0      0.2452      0.066      3.741      0.000       0.117       0.374\n",
      "Pickup Community Area_47.0      0.4877      0.247      1.977      0.048       0.004       0.971\n",
      "Pickup Community Area_53.0      0.2724      0.103      2.656      0.008       0.071       0.473\n",
      "Pickup Community Area_56.0      1.4117      0.044     32.176      0.000       1.326       1.498\n",
      "Pickup Community Area_58.0      0.1560      0.073      2.126      0.033       0.012       0.300\n",
      "Pickup Community Area_59.0      0.1712      0.098      1.742      0.081      -0.021       0.364\n",
      "Pickup Community Area_60.0      0.2406      0.063      3.817      0.000       0.117       0.364\n",
      "Pickup Community Area_61.0      0.1726      0.071      2.438      0.015       0.034       0.311\n",
      "Pickup Community Area_63.0      0.2057      0.089      2.312      0.021       0.031       0.380\n",
      "Pickup Community Area_64.0      0.2550      0.116      2.206      0.027       0.028       0.482\n",
      "Pickup Community Area_66.0      0.2852      0.072      3.977      0.000       0.145       0.426\n",
      "Pickup Community Area_67.0      0.2974      0.079      3.763      0.000       0.143       0.452\n",
      "Pickup Community Area_68.0      0.2233      0.077      2.886      0.004       0.072       0.375\n",
      "Pickup Community Area_69.0      0.2594      0.069      3.745      0.000       0.124       0.395\n",
      "Pickup Community Area_71.0      0.1600      0.068      2.364      0.018       0.027       0.293\n",
      "Pickup Community Area_72.0      0.3410      0.106      3.207      0.001       0.133       0.549\n",
      "Pickup Community Area_74.0      0.3966      0.138      2.871      0.004       0.126       0.667\n",
      "Pickup Community Area_75.0      0.1664      0.104      1.595      0.111      -0.038       0.371\n",
      "Pickup Community Area_76.0      2.0804      0.034     60.635      0.000       2.013       2.148\n",
      "Pickup Community Area_77.0      0.4026      0.044      9.235      0.000       0.317       0.488\n",
      "Dropoff Community Area_0.0      0.4138      0.031     13.516      0.000       0.354       0.474\n",
      "Dropoff Community Area_1.0      0.1620      0.047      3.435      0.001       0.070       0.254\n",
      "Dropoff Community Area_2.0      0.1530      0.055      2.763      0.006       0.044       0.261\n",
      "Dropoff Community Area_3.0      0.2370      0.038      6.221      0.000       0.162       0.312\n",
      "Dropoff Community Area_4.0      0.4026      0.048      8.473      0.000       0.309       0.496\n",
      "Dropoff Community Area_5.0      0.3582      0.046      7.868      0.000       0.269       0.447\n",
      "Dropoff Community Area_6.0      0.3366      0.031     10.806      0.000       0.276       0.398\n",
      "Dropoff Community Area_7.0      0.4302      0.032     13.522      0.000       0.368       0.493\n",
      "Dropoff Community Area_8.0      0.5081      0.029     17.782      0.000       0.452       0.564\n",
      "Dropoff Community Area_9.0      0.5054      0.126      4.022      0.000       0.259       0.752\n",
      "Dropoff Community Area_10.0     0.2168      0.082      2.642      0.008       0.056       0.378\n",
      "Dropoff Community Area_11.0     0.2163      0.091      2.370      0.018       0.037       0.395\n",
      "Dropoff Community Area_12.0     0.3850      0.117      3.287      0.001       0.155       0.615\n",
      "Dropoff Community Area_13.0     0.2354      0.090      2.615      0.009       0.059       0.412\n",
      "Dropoff Community Area_14.0     0.2167      0.061      3.577      0.000       0.098       0.335\n",
      "Dropoff Community Area_15.0     0.2078      0.063      3.310      0.001       0.085       0.331\n",
      "Dropoff Community Area_16.0     0.2382      0.051      4.678      0.000       0.138       0.338\n",
      "Dropoff Community Area_17.0     0.1653      0.085      1.937      0.053      -0.002       0.333\n",
      "Dropoff Community Area_18.0     0.2170      0.138      1.568      0.117      -0.054       0.488\n",
      "Dropoff Community Area_19.0     0.2425      0.061      3.957      0.000       0.122       0.363\n",
      "Dropoff Community Area_20.0     0.2981      0.094      3.175      0.001       0.114       0.482\n",
      "Dropoff Community Area_21.0     0.1956      0.048      4.086      0.000       0.102       0.289\n",
      "Dropoff Community Area_22.0     0.3222      0.034      9.427      0.000       0.255       0.389\n",
      "Dropoff Community Area_23.0     0.3500      0.057      6.113      0.000       0.238       0.462\n",
      "Dropoff Community Area_24.0     0.2996      0.031      9.553      0.000       0.238       0.361\n",
      "Dropoff Community Area_25.0     0.2500      0.052      4.767      0.000       0.147       0.353\n",
      "Dropoff Community Area_26.0     0.2845      0.095      3.010      0.003       0.099       0.470\n",
      "Dropoff Community Area_27.0     0.2125      0.078      2.733      0.006       0.060       0.365\n",
      "Dropoff Community Area_28.0     0.3732      0.030     12.570      0.000       0.315       0.431\n",
      "Dropoff Community Area_29.0     0.2225      0.064      3.492      0.000       0.098       0.347\n",
      "Dropoff Community Area_30.0     0.1385      0.063      2.194      0.028       0.015       0.262\n",
      "Dropoff Community Area_31.0     0.1754      0.046      3.807      0.000       0.085       0.266\n",
      "Dropoff Community Area_32.0     0.4887      0.029     16.618      0.000       0.431       0.546\n",
      "Dropoff Community Area_33.0     0.6264      0.038     16.493      0.000       0.552       0.701\n",
      "Dropoff Community Area_34.0     0.3197      0.065      4.926      0.000       0.193       0.447\n",
      "Dropoff Community Area_35.0    -0.1960      0.060     -3.271      0.001      -0.314      -0.079\n",
      "Dropoff Community Area_37.0     0.3984      0.163      2.443      0.015       0.079       0.718\n",
      "Dropoff Community Area_38.0     0.0563      0.066      0.851      0.395      -0.073       0.186\n",
      "Dropoff Community Area_41.0     0.0913      0.044      2.095      0.036       0.006       0.177\n",
      "Dropoff Community Area_42.0     0.0850      0.069      1.229      0.219      -0.050       0.220\n",
      "Dropoff Community Area_44.0     0.4349      0.067      6.455      0.000       0.303       0.567\n",
      "Dropoff Community Area_45.0     0.2420      0.147      1.647      0.099      -0.046       0.530\n",
      "Dropoff Community Area_46.0     0.1881      0.098      1.913      0.056      -0.005       0.381\n",
      "Dropoff Community Area_49.0     0.3391      0.073      4.636      0.000       0.196       0.482\n",
      "Dropoff Community Area_51.0     0.1922      0.129      1.488      0.137      -0.061       0.445\n",
      "Dropoff Community Area_52.0     0.6104      0.202      3.022      0.003       0.215       1.006\n",
      "Dropoff Community Area_53.0     0.2065      0.103      2.014      0.044       0.006       0.408\n",
      "Dropoff Community Area_56.0     1.9050      0.042     45.141      0.000       1.822       1.988\n",
      "Dropoff Community Area_57.0     0.1922      0.103      1.860      0.063      -0.010       0.395\n",
      "Dropoff Community Area_59.0     0.2258      0.099      2.286      0.022       0.032       0.420\n",
      "Dropoff Community Area_61.0     0.1829      0.071      2.587      0.010       0.044       0.321\n",
      "Dropoff Community Area_62.0     0.1909      0.127      1.502      0.133      -0.058       0.440\n",
      "Dropoff Community Area_63.0     0.2327      0.091      2.551      0.011       0.054       0.411\n",
      "Dropoff Community Area_64.0     0.2086      0.104      1.997      0.046       0.004       0.413\n",
      "Dropoff Community Area_65.0     0.2433      0.094      2.599      0.009       0.060       0.427\n",
      "Dropoff Community Area_66.0     0.2464      0.075      3.282      0.001       0.099       0.394\n",
      "Dropoff Community Area_67.0     0.3533      0.081      4.339      0.000       0.194       0.513\n",
      "Dropoff Community Area_68.0     0.3479      0.080      4.360      0.000       0.191       0.504\n",
      "Dropoff Community Area_69.0     0.3226      0.070      4.628      0.000       0.186       0.459\n",
      "Dropoff Community Area_71.0     0.3253      0.070      4.629      0.000       0.188       0.463\n",
      "Dropoff Community Area_72.0     0.3073      0.112      2.745      0.006       0.088       0.527\n",
      "Dropoff Community Area_73.0     0.1468      0.095      1.552      0.121      -0.039       0.332\n",
      "Dropoff Community Area_74.0     0.5391      0.140      3.862      0.000       0.265       0.813\n",
      "Dropoff Community Area_75.0     0.2978      0.103      2.894      0.004       0.096       0.499\n",
      "Dropoff Community Area_76.0     2.4568      0.034     73.177      0.000       2.391       2.523\n",
      "Dropoff Community Area_77.0     0.2195      0.044      4.991      0.000       0.133       0.306\n",
      "weekday_Friday                  4.8105      0.036    132.148      0.000       4.739       4.882\n",
      "weekday_Monday                  4.6060      0.037    124.533      0.000       4.534       4.678\n",
      "weekday_Saturday                4.8178      0.036    132.805      0.000       4.747       4.889\n",
      "weekday_Sunday                  4.6854      0.036    128.381      0.000       4.614       4.757\n",
      "weekday_Thursday                4.7113      0.037    128.729      0.000       4.640       4.783\n",
      "weekday_Tuesday                 4.5462      0.037    122.817      0.000       4.474       4.619\n",
      "weekday_Wednesday               4.5490      0.037    123.380      0.000       4.477       4.621\n",
      "Min_Miles Interaction        8.953e-06   2.01e-07     44.618      0.000    8.56e-06    9.35e-06\n",
      "==============================================================================\n",
      "Omnibus:                  1359459.440   Durbin-Watson:                   2.002\n",
      "Prob(Omnibus):                  0.000   Jarque-Bera (JB):       3675870215.643\n",
      "Skew:                           6.943   Prob(JB):                         0.00\n",
      "Kurtosis:                     299.695   Cond. No.                     2.17e+06\n",
      "==============================================================================\n",
      "\n",
      "Warnings:\n",
      "[1] Standard Errors assume that the covariance matrix of the errors is correctly specified.\n",
      "[2] The condition number is large, 2.17e+06. This might indicate that there are\n",
      "strong multicollinearity or other numerical problems.\n"
     ]
    }
   ],
   "source": [
    "import statsmodels.api as sm\n",
    "est1 = sm.OLS(y, X)\n",
    "est3 = est1.fit()\n",
    "print(est3.summary())"
   ]
  },
  {
   "cell_type": "code",
   "execution_count": 57,
   "metadata": {},
   "outputs": [
    {
     "name": "stdout",
     "output_type": "stream",
     "text": [
      "[15.05572243 16.81557804  6.16684381  7.56014239  6.86502382]\n"
     ]
    }
   ],
   "source": [
    "# OSL\n",
    "from sklearn import linear_model\n",
    "lm = linear_model.LinearRegression()\n",
    "model = lm.fit(X_train, y_train)\n",
    "predictions = model.predict(X_test)\n",
    "print(predictions[0:5])"
   ]
  },
  {
   "cell_type": "code",
   "execution_count": 58,
   "metadata": {},
   "outputs": [
    {
     "data": {
      "image/png": "[encoded data removed]",
      "text/plain": [
       "<Figure size 432x288 with 1 Axes>"
      ]
     },
     "metadata": {
      "needs_background": "light"
     },
     "output_type": "display_data"
    }
   ],
   "source": [
    "plt.scatter(predictions, predictions - y_test, c= 'b', s = 40)\n",
    "plt.hlines(y = 0, xmin  = 0, xmax = 300)\n",
    "plt.title('Residual Plot of Test Data')\n",
    "plt.ylabel('Residuals')\n",
    "plt.savefig('Residual Plot.png')\n",
    "plt.show()\n"
   ]
  },
  {
   "cell_type": "code",
   "execution_count": 73,
   "metadata": {},
   "outputs": [
    {
     "data": {
      "image/png": "[encoded data removed]",
      "text/plain": [
       "<Figure size 432x288 with 1 Axes>"
      ]
     },
     "metadata": {
      "needs_background": "light"
     },
     "output_type": "display_data"
    }
   ],
   "source": [
    "## The line / model\n",
    "plt.scatter(y_test, predictions)\n",
    "plt.savefig('Prediction vs Test Actual.png')\n",
    "plt.show()"
   ]
  },
  {
   "cell_type": "code",
   "execution_count": 63,
   "metadata": {},
   "outputs": [
    {
     "name": "stdout",
     "output_type": "stream",
     "text": [
      "Mean squared error: 15.248\n",
      "Variance score: 0.852\n",
      "Score: 0.852\n"
     ]
    }
   ],
   "source": [
    "from sklearn.metrics import mean_squared_error, r2_score\n",
    "# The mean squared error\n",
    "print(\"Mean squared error: %.3f\"\n",
    "      % mean_squared_error(y_test, predictions))\n",
    "# Explained variance score: 1 is perfect prediction\n",
    "print('Variance score: %.3f' % r2_score(y_test, predictions))\n",
    "\n",
    "print('Score: %.3f' % model.score(X_test, y_test))"
   ]
  },
  {
   "cell_type": "code",
   "execution_count": 69,
   "metadata": {},
   "outputs": [
    {
     "name": "stdout",
     "output_type": "stream",
     "text": [
      "[15.05181415 16.81399523  6.16677847  7.56013973  6.86447051]\n"
     ]
    }
   ],
   "source": [
    "from sklearn.linear_model import Ridge\n",
    "## training the model\n",
    "ridgeReg = Ridge(alpha=10, normalize=False)\n",
    "ridge_model = ridgeReg.fit(X_train,y_train)\n",
    "ridge_pred = ridge_model.predict(X_test)\n",
    "print(ridge_pred[0:5])\n"
   ]
  },
  {
   "cell_type": "code",
   "execution_count": 70,
   "metadata": {},
   "outputs": [
    {
     "name": "stdout",
     "output_type": "stream",
     "text": [
      "Mean squared error: 15.248\n",
      "Variance score: 0.852\n",
      "Score: 0.852\n"
     ]
    }
   ],
   "source": [
    "# The mean squared error\n",
    "print(\"Mean squared error: %.3f\"\n",
    "      % mean_squared_error(y_test, ridge_pred))\n",
    "# Explained variance score: 1 is perfect prediction\n",
    "print('Variance score: %.3f' % r2_score(y_test, ridge_pred))\n",
    "\n",
    "print('Score: %.3f' % ridge_model.score(X_test, y_test))"
   ]
  },
  {
   "cell_type": "code",
   "execution_count": 74,
   "metadata": {},
   "outputs": [
    {
     "data": {
      "image/png": "[encoded data removed]",
      "text/plain": [
       "<Figure size 432x288 with 1 Axes>"
      ]
     },
     "metadata": {
      "needs_background": "light"
     },
     "output_type": "display_data"
    }
   ],
   "source": [
    "plt.scatter(ridge_pred, ridge_pred - y_test, c= 'b', s = 40)\n",
    "plt.hlines(y = 0, xmin  = 0, xmax = 300)\n",
    "plt.title('Residual Plot of Test Data')\n",
    "plt.ylabel('Residuals')\n",
    "plt.savefig('Residual Plot Ridge.png')\n",
    "plt.show()"
   ]
  },
  {
   "cell_type": "code",
   "execution_count": 76,
   "metadata": {},
   "outputs": [
    {
     "data": {
      "image/png": "[encoded data removed]",
      "text/plain": [
       "<Figure size 432x288 with 1 Axes>"
      ]
     },
     "metadata": {
      "needs_background": "light"
     },
     "output_type": "display_data"
    }
   ],
   "source": [
    "## The line / model\n",
    "plt.scatter(y_test, ridge_pred)\n",
    "plt.savefig('Prediction vs Test Actual Ridge.png')\n",
    "plt.show()"
   ]
  },
  {
   "cell_type": "code",
   "execution_count": 67,
   "metadata": {},
   "outputs": [
    {
     "data": {
      "text/plain": [
       "RidgeCV(alphas=array([1.e-06, 1.e-05, 1.e-04, 1.e-03, 1.e-02, 1.e-01, 1.e+00, 1.e+01,\n",
       "       1.e+02, 1.e+03, 1.e+04, 1.e+05, 1.e+06]),\n",
       "    cv=None, fit_intercept=True, gcv_mode=None, normalize=False,\n",
       "    scoring=None, store_cv_values=False)"
      ]
     },
     "execution_count": 67,
     "metadata": {},
     "output_type": "execute_result"
    }
   ],
   "source": [
    "reg = linear_model.RidgeCV(alphas=np.logspace(-6, 6, 13))\n",
    "reg.fit(X_train,y_train)"
   ]
  },
  {
   "cell_type": "code",
   "execution_count": 68,
   "metadata": {},
   "outputs": [
    {
     "name": "stdout",
     "output_type": "stream",
     "text": [
      "10.0\n"
     ]
    }
   ],
   "source": [
    "print(reg.alpha_)"
   ]
  },
  {
   "cell_type": "code",
   "execution_count": 71,
   "metadata": {},
   "outputs": [
    {
     "name": "stdout",
     "output_type": "stream",
     "text": [
      "[14.57473215 16.96485613  6.06197083  7.51876875  6.66083319]\n"
     ]
    }
   ],
   "source": [
    "from sklearn.linear_model import ElasticNet\n",
    "\n",
    "ENreg = ElasticNet(alpha=0.01, l1_ratio=0.5, normalize=False)\n",
    "EN_model = ENreg.fit(X_train,y_train)\n",
    "EN_pred = EN_model.predict(X_test)\n",
    "print(EN_pred[0:5])"
   ]
  },
  {
   "cell_type": "code",
   "execution_count": 72,
   "metadata": {},
   "outputs": [
    {
     "name": "stdout",
     "output_type": "stream",
     "text": [
      "Mean squared error: 15.306\n",
      "Variance score: 0.852\n",
      "Score: 0.852\n"
     ]
    }
   ],
   "source": [
    "# The mean squared error\n",
    "print(\"Mean squared error: %.3f\"\n",
    "      % mean_squared_error(y_test, EN_pred))\n",
    "# Explained variance score: 1 is perfect prediction\n",
    "print('Variance score: %.3f' % r2_score(y_test, EN_pred))\n",
    "\n",
    "print('Score: %.3f' % EN_model.score(X_test, y_test))"
   ]
  },
  {
   "cell_type": "code",
   "execution_count": 75,
   "metadata": {},
   "outputs": [
    {
     "data": {
      "image/png": "[encoded data removed]",
      "text/plain": [
       "<Figure size 432x288 with 1 Axes>"
      ]
     },
     "metadata": {
      "needs_background": "light"
     },
     "output_type": "display_data"
    }
   ],
   "source": [
    "plt.scatter(EN_pred, EN_pred - y_test, c= 'b', s = 40)\n",
    "plt.hlines(y = 0, xmin  = 0, xmax = 300)\n",
    "plt.title('Residual Plot of Test Data')\n",
    "plt.ylabel('Residuals')\n",
    "plt.savefig('Residual Plot EN.png')\n",
    "plt.show()"
   ]
  },
  {
   "cell_type": "code",
   "execution_count": 77,
   "metadata": {},
   "outputs": [
    {
     "data": {
      "image/png": "[encoded data removed]",
      "text/plain": [
       "<Figure size 432x288 with 1 Axes>"
      ]
     },
     "metadata": {
      "needs_background": "light"
     },
     "output_type": "display_data"
    }
   ],
   "source": [
    "## The line / model\n",
    "plt.scatter(y_test, EN_pred)\n",
    "plt.savefig('Prediction vs Test Actual EN.png')\n",
    "plt.show()"
   ]
  },
  {
   "cell_type": "code",
   "execution_count": 155,
   "metadata": {},
   "outputs": [
    {
     "name": "stdout",
     "output_type": "stream",
     "text": [
      "12.42121603798045\n",
      "1.47998217479058\n"
     ]
    }
   ],
   "source": [
    "from sklearn.linear_model import ElasticNetCV\n",
    "regEN = ElasticNetCV(cv=10, random_state=0)\n",
    "regEN.fit(X_train,y_train)\n",
    "print(regEN.alpha_)\n",
    "print(regEN.intercept_) "
   ]
  },
  {
   "cell_type": "code",
   "execution_count": null,
   "metadata": {},
   "outputs": [],
   "source": []
  }
 ],
 "metadata": {
  "kernelspec": {
   "display_name": "Python 3",
   "language": "python",
   "name": "python3"
  },
  "language_info": {
   "codemirror_mode": {
    "name": "ipython",
    "version": 3
   },
   "file_extension": ".py",
   "mimetype": "text/x-python",
   "name": "python",
   "nbconvert_exporter": "python",
   "pygments_lexer": "ipython3",
   "version": "3.6.6"
  }
 },
 "nbformat": 4,
 "nbformat_minor": 2
}
